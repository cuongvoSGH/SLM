{
 "cells": [
  {
   "cell_type": "code",
   "execution_count": 1,
   "metadata": {},
   "outputs": [
    {
     "data": {
      "text/plain": [
       "'/home/cuongvosgh/SLM'"
      ]
     },
     "execution_count": 1,
     "metadata": {},
     "output_type": "execute_result"
    }
   ],
   "source": [
    "import pandas as pd\n",
    "import numpy as np \n",
    "import matplotlib.pyplot as plt\n",
    "import os\n",
    "\n",
    "os.getcwd()\n"
   ]
  },
  {
   "cell_type": "code",
   "execution_count": 2,
   "metadata": {},
   "outputs": [],
   "source": [
    "data_ipa = pd.read_csv(\"./SLM_S2024/Competition/IPA.csv\")"
   ]
  },
  {
   "cell_type": "code",
   "execution_count": 3,
   "metadata": {},
   "outputs": [
    {
     "data": {
      "text/html": [
       "<div>\n",
       "<style scoped>\n",
       "    .dataframe tbody tr th:only-of-type {\n",
       "        vertical-align: middle;\n",
       "    }\n",
       "\n",
       "    .dataframe tbody tr th {\n",
       "        vertical-align: top;\n",
       "    }\n",
       "\n",
       "    .dataframe thead th {\n",
       "        text-align: right;\n",
       "    }\n",
       "</style>\n",
       "<table border=\"1\" class=\"dataframe\">\n",
       "  <thead>\n",
       "    <tr style=\"text-align: right;\">\n",
       "      <th></th>\n",
       "      <th>IsIPA</th>\n",
       "      <th>OG</th>\n",
       "      <th>FG</th>\n",
       "      <th>ABV</th>\n",
       "      <th>IBU</th>\n",
       "      <th>Color</th>\n",
       "      <th>BoilTime</th>\n",
       "      <th>BoilGravity</th>\n",
       "      <th>PitchRate</th>\n",
       "      <th>Efficiency</th>\n",
       "      <th>UserId</th>\n",
       "    </tr>\n",
       "  </thead>\n",
       "  <tbody>\n",
       "    <tr>\n",
       "      <th>0</th>\n",
       "      <td>False</td>\n",
       "      <td>1.069</td>\n",
       "      <td>1.007</td>\n",
       "      <td>8.12</td>\n",
       "      <td>0.00</td>\n",
       "      <td>30.48</td>\n",
       "      <td>60</td>\n",
       "      <td>NaN</td>\n",
       "      <td>NaN</td>\n",
       "      <td>75.0</td>\n",
       "      <td>NaN</td>\n",
       "    </tr>\n",
       "    <tr>\n",
       "      <th>1</th>\n",
       "      <td>False</td>\n",
       "      <td>1.064</td>\n",
       "      <td>1.012</td>\n",
       "      <td>6.80</td>\n",
       "      <td>9.36</td>\n",
       "      <td>9.85</td>\n",
       "      <td>60</td>\n",
       "      <td>1.132</td>\n",
       "      <td>0.50</td>\n",
       "      <td>35.0</td>\n",
       "      <td>NaN</td>\n",
       "    </tr>\n",
       "    <tr>\n",
       "      <th>2</th>\n",
       "      <td>False</td>\n",
       "      <td>1.061</td>\n",
       "      <td>1.015</td>\n",
       "      <td>6.08</td>\n",
       "      <td>28.31</td>\n",
       "      <td>35.83</td>\n",
       "      <td>60</td>\n",
       "      <td>1.044</td>\n",
       "      <td>0.35</td>\n",
       "      <td>83.0</td>\n",
       "      <td>42087.0</td>\n",
       "    </tr>\n",
       "    <tr>\n",
       "      <th>3</th>\n",
       "      <td>False</td>\n",
       "      <td>1.053</td>\n",
       "      <td>1.012</td>\n",
       "      <td>5.44</td>\n",
       "      <td>46.48</td>\n",
       "      <td>5.77</td>\n",
       "      <td>60</td>\n",
       "      <td>1.033</td>\n",
       "      <td>NaN</td>\n",
       "      <td>70.0</td>\n",
       "      <td>NaN</td>\n",
       "    </tr>\n",
       "    <tr>\n",
       "      <th>4</th>\n",
       "      <td>False</td>\n",
       "      <td>1.053</td>\n",
       "      <td>1.017</td>\n",
       "      <td>4.64</td>\n",
       "      <td>42.29</td>\n",
       "      <td>4.22</td>\n",
       "      <td>90</td>\n",
       "      <td>1.039</td>\n",
       "      <td>0.50</td>\n",
       "      <td>77.0</td>\n",
       "      <td>14729.0</td>\n",
       "    </tr>\n",
       "    <tr>\n",
       "      <th>...</th>\n",
       "      <td>...</td>\n",
       "      <td>...</td>\n",
       "      <td>...</td>\n",
       "      <td>...</td>\n",
       "      <td>...</td>\n",
       "      <td>...</td>\n",
       "      <td>...</td>\n",
       "      <td>...</td>\n",
       "      <td>...</td>\n",
       "      <td>...</td>\n",
       "      <td>...</td>\n",
       "    </tr>\n",
       "    <tr>\n",
       "      <th>36995</th>\n",
       "      <td>False</td>\n",
       "      <td>1.069</td>\n",
       "      <td>1.012</td>\n",
       "      <td>7.39</td>\n",
       "      <td>71.03</td>\n",
       "      <td>3.95</td>\n",
       "      <td>75</td>\n",
       "      <td>1.051</td>\n",
       "      <td>NaN</td>\n",
       "      <td>70.0</td>\n",
       "      <td>NaN</td>\n",
       "    </tr>\n",
       "    <tr>\n",
       "      <th>36996</th>\n",
       "      <td>False</td>\n",
       "      <td>1.063</td>\n",
       "      <td>1.016</td>\n",
       "      <td>6.22</td>\n",
       "      <td>0.00</td>\n",
       "      <td>7.41</td>\n",
       "      <td>60</td>\n",
       "      <td>1.058</td>\n",
       "      <td>NaN</td>\n",
       "      <td>70.0</td>\n",
       "      <td>NaN</td>\n",
       "    </tr>\n",
       "    <tr>\n",
       "      <th>36997</th>\n",
       "      <td>True</td>\n",
       "      <td>1.056</td>\n",
       "      <td>1.015</td>\n",
       "      <td>5.50</td>\n",
       "      <td>38.05</td>\n",
       "      <td>20.59</td>\n",
       "      <td>60</td>\n",
       "      <td>1.089</td>\n",
       "      <td>0.75</td>\n",
       "      <td>70.0</td>\n",
       "      <td>NaN</td>\n",
       "    </tr>\n",
       "    <tr>\n",
       "      <th>36998</th>\n",
       "      <td>True</td>\n",
       "      <td>1.068</td>\n",
       "      <td>1.019</td>\n",
       "      <td>6.40</td>\n",
       "      <td>65.08</td>\n",
       "      <td>9.90</td>\n",
       "      <td>60</td>\n",
       "      <td>1.050</td>\n",
       "      <td>NaN</td>\n",
       "      <td>70.0</td>\n",
       "      <td>65316.0</td>\n",
       "    </tr>\n",
       "    <tr>\n",
       "      <th>36999</th>\n",
       "      <td>False</td>\n",
       "      <td>1.056</td>\n",
       "      <td>1.010</td>\n",
       "      <td>6.08</td>\n",
       "      <td>26.44</td>\n",
       "      <td>31.95</td>\n",
       "      <td>90</td>\n",
       "      <td>1.045</td>\n",
       "      <td>NaN</td>\n",
       "      <td>70.0</td>\n",
       "      <td>46204.0</td>\n",
       "    </tr>\n",
       "  </tbody>\n",
       "</table>\n",
       "<p>37000 rows × 11 columns</p>\n",
       "</div>"
      ],
      "text/plain": [
       "       IsIPA     OG     FG   ABV    IBU  Color  BoilTime  BoilGravity  \\\n",
       "0      False  1.069  1.007  8.12   0.00  30.48        60          NaN   \n",
       "1      False  1.064  1.012  6.80   9.36   9.85        60        1.132   \n",
       "2      False  1.061  1.015  6.08  28.31  35.83        60        1.044   \n",
       "3      False  1.053  1.012  5.44  46.48   5.77        60        1.033   \n",
       "4      False  1.053  1.017  4.64  42.29   4.22        90        1.039   \n",
       "...      ...    ...    ...   ...    ...    ...       ...          ...   \n",
       "36995  False  1.069  1.012  7.39  71.03   3.95        75        1.051   \n",
       "36996  False  1.063  1.016  6.22   0.00   7.41        60        1.058   \n",
       "36997   True  1.056  1.015  5.50  38.05  20.59        60        1.089   \n",
       "36998   True  1.068  1.019  6.40  65.08   9.90        60        1.050   \n",
       "36999  False  1.056  1.010  6.08  26.44  31.95        90        1.045   \n",
       "\n",
       "       PitchRate  Efficiency   UserId  \n",
       "0            NaN        75.0      NaN  \n",
       "1           0.50        35.0      NaN  \n",
       "2           0.35        83.0  42087.0  \n",
       "3            NaN        70.0      NaN  \n",
       "4           0.50        77.0  14729.0  \n",
       "...          ...         ...      ...  \n",
       "36995        NaN        70.0      NaN  \n",
       "36996        NaN        70.0      NaN  \n",
       "36997       0.75        70.0      NaN  \n",
       "36998        NaN        70.0  65316.0  \n",
       "36999        NaN        70.0  46204.0  \n",
       "\n",
       "[37000 rows x 11 columns]"
      ]
     },
     "metadata": {},
     "output_type": "display_data"
    }
   ],
   "source": [
    "display(data_ipa)"
   ]
  },
  {
   "cell_type": "code",
   "execution_count": 5,
   "metadata": {},
   "outputs": [
    {
     "data": {
      "text/plain": [
       "IsIPA              0\n",
       "OG                 0\n",
       "FG                 0\n",
       "ABV                0\n",
       "IBU                0\n",
       "Color              0\n",
       "BoilTime           0\n",
       "BoilGravity     1328\n",
       "PitchRate      19645\n",
       "Efficiency         0\n",
       "UserId         25448\n",
       "dtype: int64"
      ]
     },
     "execution_count": 5,
     "metadata": {},
     "output_type": "execute_result"
    }
   ],
   "source": [
    "data_ipa.isna().sum()"
   ]
  },
  {
   "cell_type": "code",
   "execution_count": 6,
   "metadata": {},
   "outputs": [
    {
     "data": {
      "text/html": [
       "<div>\n",
       "<style scoped>\n",
       "    .dataframe tbody tr th:only-of-type {\n",
       "        vertical-align: middle;\n",
       "    }\n",
       "\n",
       "    .dataframe tbody tr th {\n",
       "        vertical-align: top;\n",
       "    }\n",
       "\n",
       "    .dataframe thead th {\n",
       "        text-align: right;\n",
       "    }\n",
       "</style>\n",
       "<table border=\"1\" class=\"dataframe\">\n",
       "  <thead>\n",
       "    <tr style=\"text-align: right;\">\n",
       "      <th></th>\n",
       "      <th>OG</th>\n",
       "      <th>FG</th>\n",
       "      <th>ABV</th>\n",
       "      <th>IBU</th>\n",
       "      <th>Color</th>\n",
       "      <th>BoilTime</th>\n",
       "      <th>BoilGravity</th>\n",
       "      <th>PitchRate</th>\n",
       "      <th>Efficiency</th>\n",
       "      <th>UserId</th>\n",
       "    </tr>\n",
       "  </thead>\n",
       "  <tbody>\n",
       "    <tr>\n",
       "      <th>count</th>\n",
       "      <td>37000.000000</td>\n",
       "      <td>37000.000000</td>\n",
       "      <td>37000.000000</td>\n",
       "      <td>37000.000000</td>\n",
       "      <td>37000.000000</td>\n",
       "      <td>37000.000000</td>\n",
       "      <td>35672.000000</td>\n",
       "      <td>17355.000000</td>\n",
       "      <td>37000.000000</td>\n",
       "      <td>11552.000000</td>\n",
       "    </tr>\n",
       "    <tr>\n",
       "      <th>mean</th>\n",
       "      <td>1.061632</td>\n",
       "      <td>1.014127</td>\n",
       "      <td>6.199508</td>\n",
       "      <td>49.942323</td>\n",
       "      <td>14.109863</td>\n",
       "      <td>64.953649</td>\n",
       "      <td>1.053834</td>\n",
       "      <td>0.734780</td>\n",
       "      <td>66.336975</td>\n",
       "      <td>43711.867036</td>\n",
       "    </tr>\n",
       "    <tr>\n",
       "      <th>std</th>\n",
       "      <td>0.079010</td>\n",
       "      <td>0.016245</td>\n",
       "      <td>1.760933</td>\n",
       "      <td>46.066534</td>\n",
       "      <td>12.812433</td>\n",
       "      <td>13.428294</td>\n",
       "      <td>0.026234</td>\n",
       "      <td>0.374779</td>\n",
       "      <td>13.901772</td>\n",
       "      <td>27799.337109</td>\n",
       "    </tr>\n",
       "    <tr>\n",
       "      <th>min</th>\n",
       "      <td>1.000000</td>\n",
       "      <td>0.999000</td>\n",
       "      <td>0.000000</td>\n",
       "      <td>0.000000</td>\n",
       "      <td>0.000000</td>\n",
       "      <td>0.000000</td>\n",
       "      <td>1.000000</td>\n",
       "      <td>0.000000</td>\n",
       "      <td>0.000000</td>\n",
       "      <td>49.000000</td>\n",
       "    </tr>\n",
       "    <tr>\n",
       "      <th>25%</th>\n",
       "      <td>1.051000</td>\n",
       "      <td>1.011000</td>\n",
       "      <td>5.180000</td>\n",
       "      <td>27.440000</td>\n",
       "      <td>5.410000</td>\n",
       "      <td>60.000000</td>\n",
       "      <td>1.041000</td>\n",
       "      <td>0.350000</td>\n",
       "      <td>65.000000</td>\n",
       "      <td>21446.250000</td>\n",
       "    </tr>\n",
       "    <tr>\n",
       "      <th>50%</th>\n",
       "      <td>1.059000</td>\n",
       "      <td>1.013000</td>\n",
       "      <td>5.910000</td>\n",
       "      <td>40.640000</td>\n",
       "      <td>8.310000</td>\n",
       "      <td>60.000000</td>\n",
       "      <td>1.048000</td>\n",
       "      <td>0.750000</td>\n",
       "      <td>70.000000</td>\n",
       "      <td>43653.000000</td>\n",
       "    </tr>\n",
       "    <tr>\n",
       "      <th>75%</th>\n",
       "      <td>1.068000</td>\n",
       "      <td>1.016000</td>\n",
       "      <td>6.880000</td>\n",
       "      <td>63.240000</td>\n",
       "      <td>17.650000</td>\n",
       "      <td>60.000000</td>\n",
       "      <td>1.058000</td>\n",
       "      <td>1.000000</td>\n",
       "      <td>75.000000</td>\n",
       "      <td>58820.000000</td>\n",
       "    </tr>\n",
       "    <tr>\n",
       "      <th>max</th>\n",
       "      <td>15.897000</td>\n",
       "      <td>3.974000</td>\n",
       "      <td>54.720000</td>\n",
       "      <td>3409.300000</td>\n",
       "      <td>186.000000</td>\n",
       "      <td>240.000000</td>\n",
       "      <td>1.500000</td>\n",
       "      <td>2.000000</td>\n",
       "      <td>100.000000</td>\n",
       "      <td>133746.000000</td>\n",
       "    </tr>\n",
       "  </tbody>\n",
       "</table>\n",
       "</div>"
      ],
      "text/plain": [
       "                 OG            FG           ABV           IBU         Color  \\\n",
       "count  37000.000000  37000.000000  37000.000000  37000.000000  37000.000000   \n",
       "mean       1.061632      1.014127      6.199508     49.942323     14.109863   \n",
       "std        0.079010      0.016245      1.760933     46.066534     12.812433   \n",
       "min        1.000000      0.999000      0.000000      0.000000      0.000000   \n",
       "25%        1.051000      1.011000      5.180000     27.440000      5.410000   \n",
       "50%        1.059000      1.013000      5.910000     40.640000      8.310000   \n",
       "75%        1.068000      1.016000      6.880000     63.240000     17.650000   \n",
       "max       15.897000      3.974000     54.720000   3409.300000    186.000000   \n",
       "\n",
       "           BoilTime   BoilGravity     PitchRate    Efficiency         UserId  \n",
       "count  37000.000000  35672.000000  17355.000000  37000.000000   11552.000000  \n",
       "mean      64.953649      1.053834      0.734780     66.336975   43711.867036  \n",
       "std       13.428294      0.026234      0.374779     13.901772   27799.337109  \n",
       "min        0.000000      1.000000      0.000000      0.000000      49.000000  \n",
       "25%       60.000000      1.041000      0.350000     65.000000   21446.250000  \n",
       "50%       60.000000      1.048000      0.750000     70.000000   43653.000000  \n",
       "75%       60.000000      1.058000      1.000000     75.000000   58820.000000  \n",
       "max      240.000000      1.500000      2.000000    100.000000  133746.000000  "
      ]
     },
     "execution_count": 6,
     "metadata": {},
     "output_type": "execute_result"
    }
   ],
   "source": [
    "data_ipa.describe()"
   ]
  },
  {
   "cell_type": "code",
   "execution_count": 7,
   "metadata": {},
   "outputs": [],
   "source": [
    "data_ipa[\"IsIPA\"] = np.where(data_ipa[\"IsIPA\"] == True, 1, 0)"
   ]
  },
  {
   "cell_type": "code",
   "execution_count": 8,
   "metadata": {},
   "outputs": [
    {
     "data": {
      "text/html": [
       "<div>\n",
       "<style scoped>\n",
       "    .dataframe tbody tr th:only-of-type {\n",
       "        vertical-align: middle;\n",
       "    }\n",
       "\n",
       "    .dataframe tbody tr th {\n",
       "        vertical-align: top;\n",
       "    }\n",
       "\n",
       "    .dataframe thead th {\n",
       "        text-align: right;\n",
       "    }\n",
       "</style>\n",
       "<table border=\"1\" class=\"dataframe\">\n",
       "  <thead>\n",
       "    <tr style=\"text-align: right;\">\n",
       "      <th></th>\n",
       "      <th>IsIPA</th>\n",
       "      <th>OG</th>\n",
       "      <th>FG</th>\n",
       "      <th>ABV</th>\n",
       "      <th>IBU</th>\n",
       "      <th>Color</th>\n",
       "      <th>BoilTime</th>\n",
       "      <th>BoilGravity</th>\n",
       "      <th>PitchRate</th>\n",
       "      <th>Efficiency</th>\n",
       "    </tr>\n",
       "  </thead>\n",
       "  <tbody>\n",
       "    <tr>\n",
       "      <th>0</th>\n",
       "      <td>0</td>\n",
       "      <td>1.069</td>\n",
       "      <td>1.007</td>\n",
       "      <td>8.12</td>\n",
       "      <td>0.00</td>\n",
       "      <td>30.48</td>\n",
       "      <td>60</td>\n",
       "      <td>NaN</td>\n",
       "      <td>NaN</td>\n",
       "      <td>75.0</td>\n",
       "    </tr>\n",
       "    <tr>\n",
       "      <th>1</th>\n",
       "      <td>0</td>\n",
       "      <td>1.064</td>\n",
       "      <td>1.012</td>\n",
       "      <td>6.80</td>\n",
       "      <td>9.36</td>\n",
       "      <td>9.85</td>\n",
       "      <td>60</td>\n",
       "      <td>1.132</td>\n",
       "      <td>0.50</td>\n",
       "      <td>35.0</td>\n",
       "    </tr>\n",
       "    <tr>\n",
       "      <th>2</th>\n",
       "      <td>0</td>\n",
       "      <td>1.061</td>\n",
       "      <td>1.015</td>\n",
       "      <td>6.08</td>\n",
       "      <td>28.31</td>\n",
       "      <td>35.83</td>\n",
       "      <td>60</td>\n",
       "      <td>1.044</td>\n",
       "      <td>0.35</td>\n",
       "      <td>83.0</td>\n",
       "    </tr>\n",
       "    <tr>\n",
       "      <th>3</th>\n",
       "      <td>0</td>\n",
       "      <td>1.053</td>\n",
       "      <td>1.012</td>\n",
       "      <td>5.44</td>\n",
       "      <td>46.48</td>\n",
       "      <td>5.77</td>\n",
       "      <td>60</td>\n",
       "      <td>1.033</td>\n",
       "      <td>NaN</td>\n",
       "      <td>70.0</td>\n",
       "    </tr>\n",
       "    <tr>\n",
       "      <th>4</th>\n",
       "      <td>0</td>\n",
       "      <td>1.053</td>\n",
       "      <td>1.017</td>\n",
       "      <td>4.64</td>\n",
       "      <td>42.29</td>\n",
       "      <td>4.22</td>\n",
       "      <td>90</td>\n",
       "      <td>1.039</td>\n",
       "      <td>0.50</td>\n",
       "      <td>77.0</td>\n",
       "    </tr>\n",
       "    <tr>\n",
       "      <th>...</th>\n",
       "      <td>...</td>\n",
       "      <td>...</td>\n",
       "      <td>...</td>\n",
       "      <td>...</td>\n",
       "      <td>...</td>\n",
       "      <td>...</td>\n",
       "      <td>...</td>\n",
       "      <td>...</td>\n",
       "      <td>...</td>\n",
       "      <td>...</td>\n",
       "    </tr>\n",
       "    <tr>\n",
       "      <th>36995</th>\n",
       "      <td>0</td>\n",
       "      <td>1.069</td>\n",
       "      <td>1.012</td>\n",
       "      <td>7.39</td>\n",
       "      <td>71.03</td>\n",
       "      <td>3.95</td>\n",
       "      <td>75</td>\n",
       "      <td>1.051</td>\n",
       "      <td>NaN</td>\n",
       "      <td>70.0</td>\n",
       "    </tr>\n",
       "    <tr>\n",
       "      <th>36996</th>\n",
       "      <td>0</td>\n",
       "      <td>1.063</td>\n",
       "      <td>1.016</td>\n",
       "      <td>6.22</td>\n",
       "      <td>0.00</td>\n",
       "      <td>7.41</td>\n",
       "      <td>60</td>\n",
       "      <td>1.058</td>\n",
       "      <td>NaN</td>\n",
       "      <td>70.0</td>\n",
       "    </tr>\n",
       "    <tr>\n",
       "      <th>36997</th>\n",
       "      <td>1</td>\n",
       "      <td>1.056</td>\n",
       "      <td>1.015</td>\n",
       "      <td>5.50</td>\n",
       "      <td>38.05</td>\n",
       "      <td>20.59</td>\n",
       "      <td>60</td>\n",
       "      <td>1.089</td>\n",
       "      <td>0.75</td>\n",
       "      <td>70.0</td>\n",
       "    </tr>\n",
       "    <tr>\n",
       "      <th>36998</th>\n",
       "      <td>1</td>\n",
       "      <td>1.068</td>\n",
       "      <td>1.019</td>\n",
       "      <td>6.40</td>\n",
       "      <td>65.08</td>\n",
       "      <td>9.90</td>\n",
       "      <td>60</td>\n",
       "      <td>1.050</td>\n",
       "      <td>NaN</td>\n",
       "      <td>70.0</td>\n",
       "    </tr>\n",
       "    <tr>\n",
       "      <th>36999</th>\n",
       "      <td>0</td>\n",
       "      <td>1.056</td>\n",
       "      <td>1.010</td>\n",
       "      <td>6.08</td>\n",
       "      <td>26.44</td>\n",
       "      <td>31.95</td>\n",
       "      <td>90</td>\n",
       "      <td>1.045</td>\n",
       "      <td>NaN</td>\n",
       "      <td>70.0</td>\n",
       "    </tr>\n",
       "  </tbody>\n",
       "</table>\n",
       "<p>37000 rows × 10 columns</p>\n",
       "</div>"
      ],
      "text/plain": [
       "       IsIPA     OG     FG   ABV    IBU  Color  BoilTime  BoilGravity  \\\n",
       "0          0  1.069  1.007  8.12   0.00  30.48        60          NaN   \n",
       "1          0  1.064  1.012  6.80   9.36   9.85        60        1.132   \n",
       "2          0  1.061  1.015  6.08  28.31  35.83        60        1.044   \n",
       "3          0  1.053  1.012  5.44  46.48   5.77        60        1.033   \n",
       "4          0  1.053  1.017  4.64  42.29   4.22        90        1.039   \n",
       "...      ...    ...    ...   ...    ...    ...       ...          ...   \n",
       "36995      0  1.069  1.012  7.39  71.03   3.95        75        1.051   \n",
       "36996      0  1.063  1.016  6.22   0.00   7.41        60        1.058   \n",
       "36997      1  1.056  1.015  5.50  38.05  20.59        60        1.089   \n",
       "36998      1  1.068  1.019  6.40  65.08   9.90        60        1.050   \n",
       "36999      0  1.056  1.010  6.08  26.44  31.95        90        1.045   \n",
       "\n",
       "       PitchRate  Efficiency  \n",
       "0            NaN        75.0  \n",
       "1           0.50        35.0  \n",
       "2           0.35        83.0  \n",
       "3            NaN        70.0  \n",
       "4           0.50        77.0  \n",
       "...          ...         ...  \n",
       "36995        NaN        70.0  \n",
       "36996        NaN        70.0  \n",
       "36997       0.75        70.0  \n",
       "36998        NaN        70.0  \n",
       "36999        NaN        70.0  \n",
       "\n",
       "[37000 rows x 10 columns]"
      ]
     },
     "metadata": {},
     "output_type": "display_data"
    }
   ],
   "source": [
    "data_ipa = data_ipa.drop(columns='UserId')\n",
    "display(data_ipa)"
   ]
  },
  {
   "cell_type": "code",
   "execution_count": 16,
   "metadata": {},
   "outputs": [],
   "source": [
    "data_ipa[\"BoilGravity\"] = data_ipa[\"BoilGravity\"].fillna(-999)\n",
    "data_ipa[\"PitchRate\"] = data_ipa[\"PitchRate\"].fillna(-999)"
   ]
  },
  {
   "cell_type": "code",
   "execution_count": 17,
   "metadata": {},
   "outputs": [],
   "source": [
    "from sklearn.metrics import classification_report, confusion_matrix, roc_auc_score\n",
    "from sklearn.model_selection import train_test_split, cross_val_score\n",
    "from sklearn.metrics import f1_score\n",
    "\n",
    "def model_f1(model, X_train, X_test, y_train, y_test):\n",
    "    trained_model = model.fit(X_train, y_train)\n",
    "    y_pred = trained_model.predict(X_test)\n",
    "    return f1_score(y_test, y_pred)"
   ]
  },
  {
   "cell_type": "code",
   "execution_count": 18,
   "metadata": {},
   "outputs": [],
   "source": [
    "from sklearn.linear_model import LogisticRegression as LR\n",
    "from sklearn.ensemble import RandomForestClassifier as RFC, GradientBoostingClassifier as GBC\n",
    "from sklearn.tree import plot_tree, DecisionTreeClassifier as CART\n",
    "from sklearn.model_selection import train_test_split, GridSearchCV, RandomizedSearchCV\n",
    "from sklearn.metrics import accuracy_score"
   ]
  },
  {
   "cell_type": "code",
   "execution_count": 19,
   "metadata": {},
   "outputs": [],
   "source": [
    "training_frac = 0.7\n",
    "X = data_ipa.drop(columns='IsIPA')\n",
    "y = data_ipa.IsIPA\n",
    "X_train, X_test, y_train, y_test = train_test_split(X,\n",
    "                                                    y,\n",
    "                                                    train_size=training_frac,\n",
    "                                                    random_state=42)"
   ]
  },
  {
   "cell_type": "code",
   "execution_count": 20,
   "metadata": {},
   "outputs": [],
   "source": [
    "from functools import partial\n",
    "from tqdm import tqdm\n",
    "tqdm = partial(tqdm, position=0, leave=True)\n"
   ]
  },
  {
   "cell_type": "code",
   "execution_count": 13,
   "metadata": {},
   "outputs": [],
   "source": [
    "cs = np.linspace(0.001, 0.2, 100)"
   ]
  },
  {
   "cell_type": "code",
   "execution_count": 21,
   "metadata": {},
   "outputs": [
    {
     "name": "stderr",
     "output_type": "stream",
     "text": [
      "100%|██████████| 100/100 [00:51<00:00,  1.95it/s]\n"
     ]
    }
   ],
   "source": [
    "LR_L1 = partial(LR, penalty='l1', max_iter=1000, solver='liblinear')\n",
    "f1_l1 = [\n",
    "    model_f1(LR_L1(C=c), X_train, X_test, y_train, y_test) for c in tqdm(cs)\n",
    "]\n"
   ]
  },
  {
   "cell_type": "code",
   "execution_count": 22,
   "metadata": {},
   "outputs": [
    {
     "name": "stdout",
     "output_type": "stream",
     "text": [
      "[0.6771986970684039, 0.6797934151065202, 0.6806114239742558, 0.6848072562358277, 0.6855284552845529, 0.6871444823663254, 0.6899577510562236, 0.6897335932423652, 0.6903833658219624, 0.6909327266818329, 0.69104501869007, 0.6917830464436505, 0.6924200616782991, 0.6926449098879689, 0.6925450706512911, 0.6922202371284717, 0.6922326941826455, 0.6925450706512911, 0.6921202274573518, 0.6917952883834282, 0.6922202371284717, 0.6919954538074362, 0.6921078272166287, 0.6921078272166287, 0.691895403605652, 0.6919831223628692, 0.691970802919708, 0.6919831223628692, 0.6918585793058709, 0.6919831223628692, 0.6912218075612527, 0.6921953594028882, 0.6914461937997078, 0.6909090909090909, 0.6912218075612527, 0.6911215711735108, 0.6912337662337662, 0.6911215711735108, 0.6906848425835768, 0.6913339824732231, 0.691658552418046, 0.6908972902807073, 0.6913339824732231, 0.6906848425835768, 0.6909090909090909, 0.6908972902807073, 0.6907969485473138, 0.6907969485473138, 0.6906848425835768, 0.6910094125283998, 0.6904723259211166, 0.6905844155844155, 0.6906848425835768, 0.6906848425835768, 0.6906848425835768, 0.6907969485473138, 0.691109669046074, 0.6904723259211166, 0.691434133679429, 0.6907969485473138, 0.6905727730001623, 0.6908972902807073, 0.6907852044127191, 0.6906731549067315, 0.6907852044127191, 0.6905844155844155, 0.6904723259211166, 0.6904723259211166, 0.6901362751460091, 0.6905727730001623, 0.6907969485473138, 0.6900243309002433, 0.6904723259211166, 0.6902367823548492, 0.6900243309002433, 0.6904723259211166, 0.6907969485473138, 0.6904723259211166, 0.6900357026939306, 0.6905727730001623, 0.6908972902807073, 0.6905727730001623, 0.6901362751460091, 0.6901362751460091, 0.6901362751460091, 0.6901477032949197, 0.6906731549067315, 0.6905727730001623, 0.6900243309002433, 0.6901362751460091, 0.6903487429034874, 0.6900243309002433, 0.6900243309002433, 0.6901362751460091, 0.6900243309002433, 0.6900243309002433, 0.6900243309002433, 0.6900243309002433, 0.6901362751460091, 0.6900243309002433]\n"
     ]
    }
   ],
   "source": [
    "print(f1_l1)"
   ]
  },
  {
   "cell_type": "code",
   "execution_count": 25,
   "metadata": {},
   "outputs": [
    {
     "name": "stdout",
     "output_type": "stream",
     "text": [
      "Axes(0.125,0.11;0.775x0.77)\n"
     ]
    },
    {
     "data": {
      "image/png": "[encoded data removed]",
      "text/plain": [
       "<Figure size 640x480 with 1 Axes>"
      ]
     },
     "metadata": {},
     "output_type": "display_data"
    }
   ],
   "source": [
    "import seaborn as sns\n",
    "\n",
    "p = sns.lineplot(x=cs, y=f1_l1)\n",
    "p.set_xlabel(\"C\")\n",
    "p.set_ylabel(\"F1\")\n",
    "p.set_title(\"Logistic regression with L1 penalty\")\n",
    "print(p)\n"
   ]
  },
  {
   "cell_type": "code",
   "execution_count": 18,
   "metadata": {},
   "outputs": [],
   "source": [
    "data_ipa_test = pd.read_csv(\"./SLM_S2024/Competition/IPA_test.csv\")\n",
    "data_ipa_test = data_ipa_test.drop(columns='UserId')\n",
    "data_ipa_test[\"BoilGravity\"] = data_ipa_test[\"BoilGravity\"].fillna(-999)\n",
    "data_ipa_test[\"PitchRate\"] = data_ipa_test[\"PitchRate\"].fillna(-999)"
   ]
  },
  {
   "cell_type": "code",
   "execution_count": 19,
   "metadata": {},
   "outputs": [],
   "source": [
    "model = LR(C= cs[np.argmax(f1_l1)] ,penalty='l1', max_iter=1000, solver='liblinear')\n",
    "model.fit(X_train,y_train )\n",
    "y_predict = model.predict(data_ipa_test)"
   ]
  },
  {
   "cell_type": "code",
   "execution_count": 32,
   "metadata": {},
   "outputs": [],
   "source": [
    "y_predict = pd.DataFrame(y_predict)"
   ]
  },
  {
   "cell_type": "code",
   "execution_count": 33,
   "metadata": {},
   "outputs": [],
   "source": [
    "y_predict = y_predict.rename(columns={0:'Prediction'})"
   ]
  },
  {
   "cell_type": "code",
   "execution_count": 34,
   "metadata": {},
   "outputs": [],
   "source": [
    "y_predict.to_csv(\"./GuCCi_IPA_prediction.csv\", index = False)"
   ]
  },
  {
   "cell_type": "code",
   "execution_count": 26,
   "metadata": {},
   "outputs": [
    {
     "name": "stdout",
     "output_type": "stream",
     "text": [
      "Fitting 3 folds for each of 25 candidates, totalling 75 fits\n",
      "[CV] END ....................max_features=1, n_estimators=50; total time=   1.0s\n",
      "[CV] END ....................max_features=1, n_estimators=50; total time=   0.9s\n",
      "[CV] END ....................max_features=1, n_estimators=50; total time=   1.0s\n",
      "[CV] END ...................max_features=1, n_estimators=100; total time=   1.8s\n",
      "[CV] END ...................max_features=1, n_estimators=100; total time=   1.8s\n",
      "[CV] END ...................max_features=1, n_estimators=100; total time=   1.9s\n",
      "[CV] END ...................max_features=1, n_estimators=200; total time=   3.6s\n",
      "[CV] END ...................max_features=1, n_estimators=200; total time=   3.6s\n",
      "[CV] END ...................max_features=1, n_estimators=200; total time=   3.6s\n",
      "[CV] END ...................max_features=1, n_estimators=300; total time=   5.1s\n",
      "[CV] END ...................max_features=1, n_estimators=300; total time=   5.3s\n",
      "[CV] END ...................max_features=1, n_estimators=300; total time=   5.3s\n",
      "[CV] END ...................max_features=1, n_estimators=400; total time=   6.9s\n",
      "[CV] END ...................max_features=1, n_estimators=400; total time=   7.2s\n",
      "[CV] END ...................max_features=1, n_estimators=400; total time=   7.0s\n",
      "[CV] END ....................max_features=3, n_estimators=50; total time=   1.7s\n",
      "[CV] END ....................max_features=3, n_estimators=50; total time=   1.6s\n",
      "[CV] END ....................max_features=3, n_estimators=50; total time=   1.7s\n",
      "[CV] END ...................max_features=3, n_estimators=100; total time=   3.4s\n",
      "[CV] END ...................max_features=3, n_estimators=100; total time=   3.8s\n",
      "[CV] END ...................max_features=3, n_estimators=100; total time=   3.5s\n",
      "[CV] END ...................max_features=3, n_estimators=200; total time=   7.5s\n",
      "[CV] END ...................max_features=3, n_estimators=200; total time=   7.5s\n",
      "[CV] END ...................max_features=3, n_estimators=200; total time=   7.8s\n",
      "[CV] END ...................max_features=3, n_estimators=300; total time=  11.5s\n",
      "[CV] END ...................max_features=3, n_estimators=300; total time=  11.2s\n",
      "[CV] END ...................max_features=3, n_estimators=300; total time=  11.5s\n",
      "[CV] END ...................max_features=3, n_estimators=400; total time=  14.2s\n",
      "[CV] END ...................max_features=3, n_estimators=400; total time=  13.9s\n",
      "[CV] END ...................max_features=3, n_estimators=400; total time=  14.2s\n",
      "[CV] END ....................max_features=5, n_estimators=50; total time=   2.5s\n",
      "[CV] END ....................max_features=5, n_estimators=50; total time=   2.6s\n",
      "[CV] END ....................max_features=5, n_estimators=50; total time=   2.6s\n",
      "[CV] END ...................max_features=5, n_estimators=100; total time=   5.0s\n",
      "[CV] END ...................max_features=5, n_estimators=100; total time=   5.2s\n",
      "[CV] END ...................max_features=5, n_estimators=100; total time=   5.4s\n",
      "[CV] END ...................max_features=5, n_estimators=200; total time=  10.2s\n",
      "[CV] END ...................max_features=5, n_estimators=200; total time=   9.9s\n",
      "[CV] END ...................max_features=5, n_estimators=200; total time=   9.9s\n",
      "[CV] END ...................max_features=5, n_estimators=300; total time=  15.0s\n",
      "[CV] END ...................max_features=5, n_estimators=300; total time=  15.6s\n",
      "[CV] END ...................max_features=5, n_estimators=300; total time=  15.2s\n",
      "[CV] END ...................max_features=5, n_estimators=400; total time=  20.7s\n",
      "[CV] END ...................max_features=5, n_estimators=400; total time=  21.5s\n",
      "[CV] END ...................max_features=5, n_estimators=400; total time=  21.0s\n",
      "[CV] END ....................max_features=7, n_estimators=50; total time=   3.4s\n",
      "[CV] END ....................max_features=7, n_estimators=50; total time=   3.6s\n",
      "[CV] END ....................max_features=7, n_estimators=50; total time=   3.5s\n",
      "[CV] END ...................max_features=7, n_estimators=100; total time=   7.1s\n",
      "[CV] END ...................max_features=7, n_estimators=100; total time=   7.3s\n",
      "[CV] END ...................max_features=7, n_estimators=100; total time=   7.8s\n",
      "[CV] END ...................max_features=7, n_estimators=200; total time=  14.1s\n",
      "[CV] END ...................max_features=7, n_estimators=200; total time=  14.1s\n",
      "[CV] END ...................max_features=7, n_estimators=200; total time=  14.3s\n",
      "[CV] END ...................max_features=7, n_estimators=300; total time=  20.3s\n",
      "[CV] END ...................max_features=7, n_estimators=300; total time=  20.7s\n",
      "[CV] END ...................max_features=7, n_estimators=300; total time=  21.3s\n",
      "[CV] END ...................max_features=7, n_estimators=400; total time=  28.7s\n",
      "[CV] END ...................max_features=7, n_estimators=400; total time=  29.1s\n",
      "[CV] END ...................max_features=7, n_estimators=400; total time=  29.3s\n",
      "[CV] END ....................max_features=9, n_estimators=50; total time=   4.6s\n",
      "[CV] END ....................max_features=9, n_estimators=50; total time=   4.6s\n",
      "[CV] END ....................max_features=9, n_estimators=50; total time=   4.6s\n",
      "[CV] END ...................max_features=9, n_estimators=100; total time=   8.9s\n",
      "[CV] END ...................max_features=9, n_estimators=100; total time=   8.9s\n",
      "[CV] END ...................max_features=9, n_estimators=100; total time=   9.0s\n",
      "[CV] END ...................max_features=9, n_estimators=200; total time=  17.7s\n",
      "[CV] END ...................max_features=9, n_estimators=200; total time=  19.3s\n",
      "[CV] END ...................max_features=9, n_estimators=200; total time=  19.0s\n",
      "[CV] END ...................max_features=9, n_estimators=300; total time=  29.1s\n",
      "[CV] END ...................max_features=9, n_estimators=300; total time=  28.5s\n",
      "[CV] END ...................max_features=9, n_estimators=300; total time=  27.5s\n",
      "[CV] END ...................max_features=9, n_estimators=400; total time=  36.4s\n",
      "[CV] END ...................max_features=9, n_estimators=400; total time=  37.5s\n",
      "[CV] END ...................max_features=9, n_estimators=400; total time=  36.8s\n"
     ]
    },
    {
     "data": {
      "text/html": [
       "<style>#sk-container-id-1 {color: black;}#sk-container-id-1 pre{padding: 0;}#sk-container-id-1 div.sk-toggleable {background-color: white;}#sk-container-id-1 label.sk-toggleable__label {cursor: pointer;display: block;width: 100%;margin-bottom: 0;padding: 0.3em;box-sizing: border-box;text-align: center;}#sk-container-id-1 label.sk-toggleable__label-arrow:before {content: \"▸\";float: left;margin-right: 0.25em;color: #696969;}#sk-container-id-1 label.sk-toggleable__label-arrow:hover:before {color: black;}#sk-container-id-1 div.sk-estimator:hover label.sk-toggleable__label-arrow:before {color: black;}#sk-container-id-1 div.sk-toggleable__content {max-height: 0;max-width: 0;overflow: hidden;text-align: left;background-color: #f0f8ff;}#sk-container-id-1 div.sk-toggleable__content pre {margin: 0.2em;color: black;border-radius: 0.25em;background-color: #f0f8ff;}#sk-container-id-1 input.sk-toggleable__control:checked~div.sk-toggleable__content {max-height: 200px;max-width: 100%;overflow: auto;}#sk-container-id-1 input.sk-toggleable__control:checked~label.sk-toggleable__label-arrow:before {content: \"▾\";}#sk-container-id-1 div.sk-estimator input.sk-toggleable__control:checked~label.sk-toggleable__label {background-color: #d4ebff;}#sk-container-id-1 div.sk-label input.sk-toggleable__control:checked~label.sk-toggleable__label {background-color: #d4ebff;}#sk-container-id-1 input.sk-hidden--visually {border: 0;clip: rect(1px 1px 1px 1px);clip: rect(1px, 1px, 1px, 1px);height: 1px;margin: -1px;overflow: hidden;padding: 0;position: absolute;width: 1px;}#sk-container-id-1 div.sk-estimator {font-family: monospace;background-color: #f0f8ff;border: 1px dotted black;border-radius: 0.25em;box-sizing: border-box;margin-bottom: 0.5em;}#sk-container-id-1 div.sk-estimator:hover {background-color: #d4ebff;}#sk-container-id-1 div.sk-parallel-item::after {content: \"\";width: 100%;border-bottom: 1px solid gray;flex-grow: 1;}#sk-container-id-1 div.sk-label:hover label.sk-toggleable__label {background-color: #d4ebff;}#sk-container-id-1 div.sk-serial::before {content: \"\";position: absolute;border-left: 1px solid gray;box-sizing: border-box;top: 0;bottom: 0;left: 50%;z-index: 0;}#sk-container-id-1 div.sk-serial {display: flex;flex-direction: column;align-items: center;background-color: white;padding-right: 0.2em;padding-left: 0.2em;position: relative;}#sk-container-id-1 div.sk-item {position: relative;z-index: 1;}#sk-container-id-1 div.sk-parallel {display: flex;align-items: stretch;justify-content: center;background-color: white;position: relative;}#sk-container-id-1 div.sk-item::before, #sk-container-id-1 div.sk-parallel-item::before {content: \"\";position: absolute;border-left: 1px solid gray;box-sizing: border-box;top: 0;bottom: 0;left: 50%;z-index: -1;}#sk-container-id-1 div.sk-parallel-item {display: flex;flex-direction: column;z-index: 1;position: relative;background-color: white;}#sk-container-id-1 div.sk-parallel-item:first-child::after {align-self: flex-end;width: 50%;}#sk-container-id-1 div.sk-parallel-item:last-child::after {align-self: flex-start;width: 50%;}#sk-container-id-1 div.sk-parallel-item:only-child::after {width: 0;}#sk-container-id-1 div.sk-dashed-wrapped {border: 1px dashed gray;margin: 0 0.4em 0.5em 0.4em;box-sizing: border-box;padding-bottom: 0.4em;background-color: white;}#sk-container-id-1 div.sk-label label {font-family: monospace;font-weight: bold;display: inline-block;line-height: 1.2em;}#sk-container-id-1 div.sk-label-container {text-align: center;}#sk-container-id-1 div.sk-container {/* jupyter's `normalize.less` sets `[hidden] { display: none; }` but bootstrap.min.css set `[hidden] { display: none !important; }` so we also need the `!important` here to be able to override the default hidden behavior on the sphinx rendered scikit-learn.org. See: https://github.com/scikit-learn/scikit-learn/issues/21755 */display: inline-block !important;position: relative;}#sk-container-id-1 div.sk-text-repr-fallback {display: none;}</style><div id=\"sk-container-id-1\" class=\"sk-top-container\"><div class=\"sk-text-repr-fallback\"><pre>GridSearchCV(cv=3, estimator=RandomForestClassifier(random_state=42), n_jobs=1,\n",
       "             param_grid={&#x27;max_features&#x27;: array([1, 3, 5, 7, 9]),\n",
       "                         &#x27;n_estimators&#x27;: [50, 100, 200, 300, 400]},\n",
       "             scoring=&#x27;accuracy&#x27;, verbose=2)</pre><b>In a Jupyter environment, please rerun this cell to show the HTML representation or trust the notebook. <br />On GitHub, the HTML representation is unable to render, please try loading this page with nbviewer.org.</b></div><div class=\"sk-container\" hidden><div class=\"sk-item sk-dashed-wrapped\"><div class=\"sk-label-container\"><div class=\"sk-label sk-toggleable\"><input class=\"sk-toggleable__control sk-hidden--visually\" id=\"sk-estimator-id-1\" type=\"checkbox\" ><label for=\"sk-estimator-id-1\" class=\"sk-toggleable__label sk-toggleable__label-arrow\">GridSearchCV</label><div class=\"sk-toggleable__content\"><pre>GridSearchCV(cv=3, estimator=RandomForestClassifier(random_state=42), n_jobs=1,\n",
       "             param_grid={&#x27;max_features&#x27;: array([1, 3, 5, 7, 9]),\n",
       "                         &#x27;n_estimators&#x27;: [50, 100, 200, 300, 400]},\n",
       "             scoring=&#x27;accuracy&#x27;, verbose=2)</pre></div></div></div><div class=\"sk-parallel\"><div class=\"sk-parallel-item\"><div class=\"sk-item\"><div class=\"sk-label-container\"><div class=\"sk-label sk-toggleable\"><input class=\"sk-toggleable__control sk-hidden--visually\" id=\"sk-estimator-id-2\" type=\"checkbox\" ><label for=\"sk-estimator-id-2\" class=\"sk-toggleable__label sk-toggleable__label-arrow\">estimator: RandomForestClassifier</label><div class=\"sk-toggleable__content\"><pre>RandomForestClassifier(random_state=42)</pre></div></div></div><div class=\"sk-serial\"><div class=\"sk-item\"><div class=\"sk-estimator sk-toggleable\"><input class=\"sk-toggleable__control sk-hidden--visually\" id=\"sk-estimator-id-3\" type=\"checkbox\" ><label for=\"sk-estimator-id-3\" class=\"sk-toggleable__label sk-toggleable__label-arrow\">RandomForestClassifier</label><div class=\"sk-toggleable__content\"><pre>RandomForestClassifier(random_state=42)</pre></div></div></div></div></div></div></div></div></div></div>"
      ],
      "text/plain": [
       "GridSearchCV(cv=3, estimator=RandomForestClassifier(random_state=42), n_jobs=1,\n",
       "             param_grid={'max_features': array([1, 3, 5, 7, 9]),\n",
       "                         'n_estimators': [50, 100, 200, 300, 400]},\n",
       "             scoring='accuracy', verbose=2)"
      ]
     },
     "execution_count": 26,
     "metadata": {},
     "output_type": "execute_result"
    }
   ],
   "source": [
    "grid = {\n",
    "    'n_estimators': [50, 100, 200, 300, 400],\n",
    "    'max_features': np.linspace(1, X_train.shape[1], 5).astype(int)\n",
    "}\n",
    "tuning_res_rf = GridSearchCV(RFC(random_state=42),\n",
    "                             param_grid=grid,\n",
    "                             scoring='accuracy',\n",
    "                             n_jobs=1,\n",
    "                             cv=3,\n",
    "                             verbose=2)\n",
    "tuning_res_rf.fit(X_train, y_train)"
   ]
  },
  {
   "cell_type": "code",
   "execution_count": 27,
   "metadata": {},
   "outputs": [],
   "source": [
    "n_trees = grid['n_estimators']\n",
    "max_features = grid['max_features']\n",
    "arr = tuning_res_rf.cv_results_['mean_test_score'].reshape(\n",
    "    len(max_features), len(n_trees))\n",
    "df = pd.DataFrame(arr, columns=n_trees, index=max_features)"
   ]
  },
  {
   "cell_type": "code",
   "execution_count": 28,
   "metadata": {},
   "outputs": [
    {
     "name": "stdout",
     "output_type": "stream",
     "text": [
      "Axes(0.125,0.11;0.62x0.77)\n"
     ]
    },
    {
     "data": {
      "image/png": "[encoded data removed]",
      "text/plain": [
       "<Figure size 640x480 with 2 Axes>"
      ]
     },
     "metadata": {},
     "output_type": "display_data"
    }
   ],
   "source": [
    "p = sns.heatmap(df, annot=True, fmt='.3f', cmap='viridis')\n",
    "p.set_xlabel(\"n_estimators\")\n",
    "p.set_ylabel(\"# features\")\n",
    "print(p)"
   ]
  },
  {
   "cell_type": "code",
   "execution_count": 29,
   "metadata": {},
   "outputs": [
    {
     "name": "stdout",
     "output_type": "stream",
     "text": [
      "{'max_features': 3, 'n_estimators': 300}\n"
     ]
    }
   ],
   "source": [
    "print(tuning_res_rf.best_params_)\n",
    "Best_RF = tuning_res_rf.best_estimator_"
   ]
  },
  {
   "cell_type": "code",
   "execution_count": 30,
   "metadata": {},
   "outputs": [
    {
     "data": {
      "text/plain": [
       "<function matplotlib.pyplot.show(close=None, block=None)>"
      ]
     },
     "execution_count": 30,
     "metadata": {},
     "output_type": "execute_result"
    },
    {
     "data": {
      "image/png": "[encoded data removed]",
      "text/plain": [
       "<Figure size 1500x800 with 1 Axes>"
      ]
     },
     "metadata": {},
     "output_type": "display_data"
    }
   ],
   "source": [
    "# Plot the feature importances of the forest\n",
    "importances = Best_RF.feature_importances_\n",
    "std = np.std([tree.feature_importances_ for tree in Best_RF.estimators_],\n",
    "             axis=0)\n",
    "indices = np.argsort(importances)[::-1]\n",
    "\n",
    "num_feat = 6\n",
    "plt.figure(figsize=[15, 8])\n",
    "plt.title(\"Feature importances\", fontsize=20)\n",
    "plt.bar(range(num_feat)[:num_feat],\n",
    "        importances[indices][:num_feat],\n",
    "        color=\"g\",\n",
    "        yerr=std[indices][:num_feat],\n",
    "        align=\"center\")\n",
    "plt.xticks(range(num_feat)[:num_feat], X_train.columns[indices[:num_feat]])\n",
    "plt.xlim([-1, num_feat])\n",
    "plt.ylabel(\"Impurity reduction\", fontsize=15)\n",
    "plt.show"
   ]
  },
  {
   "cell_type": "code",
   "execution_count": 31,
   "metadata": {},
   "outputs": [
    {
     "name": "stdout",
     "output_type": "stream",
     "text": [
      "0.7780701754385965\n"
     ]
    }
   ],
   "source": [
    "y_predict = Best_RF.predict(X_test)\n",
    "print(f1_score(y_test,y_predict))"
   ]
  },
  {
   "cell_type": "code",
   "execution_count": null,
   "metadata": {},
   "outputs": [],
   "source": []
  }
 ],
 "metadata": {
  "kernelspec": {
   "display_name": "Python 3",
   "language": "python",
   "name": "python3"
  },
  "language_info": {
   "codemirror_mode": {
    "name": "ipython",
    "version": 3
   },
   "file_extension": ".py",
   "mimetype": "text/x-python",
   "name": "python",
   "nbconvert_exporter": "python",
   "pygments_lexer": "ipython3",
   "version": "3.10.12"
  }
 },
 "nbformat": 4,
 "nbformat_minor": 2
}
