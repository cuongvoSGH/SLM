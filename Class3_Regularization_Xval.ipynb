{
 "cells": [
  {
   "cell_type": "markdown",
   "id": "72f7e77a",
   "metadata": {},
   "source": [
    "# Class 3 - Regularization and cross-validation"
   ]
  },
  {
   "cell_type": "markdown",
   "id": "a5c0aa7e",
   "metadata": {},
   "source": [
    "**Packages import**"
   ]
  },
  {
   "cell_type": "code",
   "execution_count": null,
   "id": "b1a736a5",
   "metadata": {},
   "outputs": [],
   "source": [
    "# %%capture\n",
    "# !pip install tqdm pandas numpy matplotlib seaborn scikit-learn"
   ]
  },
  {
   "cell_type": "code",
   "execution_count": 1,
   "id": "5ca47613",
   "metadata": {},
   "outputs": [],
   "source": [
    "from functools import partial"
   ]
  },
  {
   "cell_type": "code",
   "execution_count": 2,
   "id": "4fd2e722",
   "metadata": {},
   "outputs": [],
   "source": [
    "import pandas as pd\n",
    "import numpy as np\n",
    "import seaborn as sns\n",
    "import matplotlib.pyplot as plt\n",
    "from tqdm import tqdm"
   ]
  },
  {
   "cell_type": "code",
   "execution_count": 3,
   "id": "6f836caa",
   "metadata": {},
   "outputs": [],
   "source": [
    "tqdm = partial(tqdm, position=0, leave=True)"
   ]
  },
  {
   "cell_type": "code",
   "execution_count": 4,
   "id": "98f3e46d",
   "metadata": {},
   "outputs": [],
   "source": [
    "plt.style.use('bmh')"
   ]
  },
  {
   "cell_type": "code",
   "execution_count": 5,
   "id": "bab478e8",
   "metadata": {},
   "outputs": [],
   "source": [
    "from sklearn.metrics import classification_report, confusion_matrix, roc_auc_score\n",
    "from sklearn.model_selection import train_test_split, cross_val_score\n",
    "from sklearn.preprocessing import OneHotEncoder\n",
    "from sklearn.linear_model import LogisticRegression as LR\n",
    "from sklearn.svm import SVC"
   ]
  },
  {
   "cell_type": "markdown",
   "id": "5302735f",
   "metadata": {},
   "source": [
    "## Dataset - preparation and One-Hot Encoding"
   ]
  },
  {
   "cell_type": "code",
   "execution_count": 6,
   "id": "ef3cfa52",
   "metadata": {},
   "outputs": [],
   "source": [
    "#Titanic dataset - information about passangers with indication of survival\n",
    "#Task: binary classification of target column Survived\n",
    "dataset = pd.read_csv(\n",
    "    \"https://web.stanford.edu/class/archive/cs/cs109/cs109.1166/stuff/titanic.csv\",\n",
    "    sep=',',\n",
    "    header=0)"
   ]
  },
  {
   "cell_type": "markdown",
   "id": "de9f4344",
   "metadata": {},
   "source": [
    "**Dataset exploration**"
   ]
  },
  {
   "cell_type": "code",
   "execution_count": 8,
   "id": "66c6d736",
   "metadata": {},
   "outputs": [
    {
     "data": {
      "text/plain": [
       "Survived                   0\n",
       "Pclass                     0\n",
       "Name                       0\n",
       "Sex                        0\n",
       "Age                        0\n",
       "Siblings/Spouses Aboard    0\n",
       "Parents/Children Aboard    0\n",
       "Fare                       0\n",
       "dtype: int64"
      ]
     },
     "execution_count": 8,
     "metadata": {},
     "output_type": "execute_result"
    }
   ],
   "source": [
    "dataset.isna().sum()"
   ]
  },
  {
   "cell_type": "code",
   "execution_count": 9,
   "id": "23082472",
   "metadata": {},
   "outputs": [
    {
     "data": {
      "text/html": [
       "<div>\n",
       "<style scoped>\n",
       "    .dataframe tbody tr th:only-of-type {\n",
       "        vertical-align: middle;\n",
       "    }\n",
       "\n",
       "    .dataframe tbody tr th {\n",
       "        vertical-align: top;\n",
       "    }\n",
       "\n",
       "    .dataframe thead th {\n",
       "        text-align: right;\n",
       "    }\n",
       "</style>\n",
       "<table border=\"1\" class=\"dataframe\">\n",
       "  <thead>\n",
       "    <tr style=\"text-align: right;\">\n",
       "      <th></th>\n",
       "      <th>Survived</th>\n",
       "      <th>Pclass</th>\n",
       "      <th>Age</th>\n",
       "      <th>Siblings/Spouses Aboard</th>\n",
       "      <th>Parents/Children Aboard</th>\n",
       "      <th>Fare</th>\n",
       "    </tr>\n",
       "  </thead>\n",
       "  <tbody>\n",
       "    <tr>\n",
       "      <th>count</th>\n",
       "      <td>887.000000</td>\n",
       "      <td>887.000000</td>\n",
       "      <td>887.000000</td>\n",
       "      <td>887.000000</td>\n",
       "      <td>887.000000</td>\n",
       "      <td>887.00000</td>\n",
       "    </tr>\n",
       "    <tr>\n",
       "      <th>mean</th>\n",
       "      <td>0.385569</td>\n",
       "      <td>2.305524</td>\n",
       "      <td>29.471443</td>\n",
       "      <td>0.525366</td>\n",
       "      <td>0.383315</td>\n",
       "      <td>32.30542</td>\n",
       "    </tr>\n",
       "    <tr>\n",
       "      <th>std</th>\n",
       "      <td>0.487004</td>\n",
       "      <td>0.836662</td>\n",
       "      <td>14.121908</td>\n",
       "      <td>1.104669</td>\n",
       "      <td>0.807466</td>\n",
       "      <td>49.78204</td>\n",
       "    </tr>\n",
       "    <tr>\n",
       "      <th>min</th>\n",
       "      <td>0.000000</td>\n",
       "      <td>1.000000</td>\n",
       "      <td>0.420000</td>\n",
       "      <td>0.000000</td>\n",
       "      <td>0.000000</td>\n",
       "      <td>0.00000</td>\n",
       "    </tr>\n",
       "    <tr>\n",
       "      <th>25%</th>\n",
       "      <td>0.000000</td>\n",
       "      <td>2.000000</td>\n",
       "      <td>20.250000</td>\n",
       "      <td>0.000000</td>\n",
       "      <td>0.000000</td>\n",
       "      <td>7.92500</td>\n",
       "    </tr>\n",
       "    <tr>\n",
       "      <th>50%</th>\n",
       "      <td>0.000000</td>\n",
       "      <td>3.000000</td>\n",
       "      <td>28.000000</td>\n",
       "      <td>0.000000</td>\n",
       "      <td>0.000000</td>\n",
       "      <td>14.45420</td>\n",
       "    </tr>\n",
       "    <tr>\n",
       "      <th>75%</th>\n",
       "      <td>1.000000</td>\n",
       "      <td>3.000000</td>\n",
       "      <td>38.000000</td>\n",
       "      <td>1.000000</td>\n",
       "      <td>0.000000</td>\n",
       "      <td>31.13750</td>\n",
       "    </tr>\n",
       "    <tr>\n",
       "      <th>max</th>\n",
       "      <td>1.000000</td>\n",
       "      <td>3.000000</td>\n",
       "      <td>80.000000</td>\n",
       "      <td>8.000000</td>\n",
       "      <td>6.000000</td>\n",
       "      <td>512.32920</td>\n",
       "    </tr>\n",
       "  </tbody>\n",
       "</table>\n",
       "</div>"
      ],
      "text/plain": [
       "         Survived      Pclass         Age  Siblings/Spouses Aboard  \\\n",
       "count  887.000000  887.000000  887.000000               887.000000   \n",
       "mean     0.385569    2.305524   29.471443                 0.525366   \n",
       "std      0.487004    0.836662   14.121908                 1.104669   \n",
       "min      0.000000    1.000000    0.420000                 0.000000   \n",
       "25%      0.000000    2.000000   20.250000                 0.000000   \n",
       "50%      0.000000    3.000000   28.000000                 0.000000   \n",
       "75%      1.000000    3.000000   38.000000                 1.000000   \n",
       "max      1.000000    3.000000   80.000000                 8.000000   \n",
       "\n",
       "       Parents/Children Aboard       Fare  \n",
       "count               887.000000  887.00000  \n",
       "mean                  0.383315   32.30542  \n",
       "std                   0.807466   49.78204  \n",
       "min                   0.000000    0.00000  \n",
       "25%                   0.000000    7.92500  \n",
       "50%                   0.000000   14.45420  \n",
       "75%                   0.000000   31.13750  \n",
       "max                   6.000000  512.32920  "
      ]
     },
     "execution_count": 9,
     "metadata": {},
     "output_type": "execute_result"
    }
   ],
   "source": [
    "dataset.describe()"
   ]
  },
  {
   "cell_type": "code",
   "execution_count": 10,
   "id": "e30463a8",
   "metadata": {},
   "outputs": [
    {
     "data": {
      "text/html": [
       "<div>\n",
       "<style scoped>\n",
       "    .dataframe tbody tr th:only-of-type {\n",
       "        vertical-align: middle;\n",
       "    }\n",
       "\n",
       "    .dataframe tbody tr th {\n",
       "        vertical-align: top;\n",
       "    }\n",
       "\n",
       "    .dataframe thead th {\n",
       "        text-align: right;\n",
       "    }\n",
       "</style>\n",
       "<table border=\"1\" class=\"dataframe\">\n",
       "  <thead>\n",
       "    <tr style=\"text-align: right;\">\n",
       "      <th></th>\n",
       "      <th>Survived</th>\n",
       "      <th>Pclass</th>\n",
       "      <th>Name</th>\n",
       "      <th>Sex</th>\n",
       "      <th>Age</th>\n",
       "      <th>Siblings/Spouses Aboard</th>\n",
       "      <th>Parents/Children Aboard</th>\n",
       "      <th>Fare</th>\n",
       "    </tr>\n",
       "  </thead>\n",
       "  <tbody>\n",
       "    <tr>\n",
       "      <th>0</th>\n",
       "      <td>0</td>\n",
       "      <td>3</td>\n",
       "      <td>Mr. Owen Harris Braund</td>\n",
       "      <td>male</td>\n",
       "      <td>22.0</td>\n",
       "      <td>1</td>\n",
       "      <td>0</td>\n",
       "      <td>7.2500</td>\n",
       "    </tr>\n",
       "    <tr>\n",
       "      <th>1</th>\n",
       "      <td>1</td>\n",
       "      <td>1</td>\n",
       "      <td>Mrs. John Bradley (Florence Briggs Thayer) Cum...</td>\n",
       "      <td>female</td>\n",
       "      <td>38.0</td>\n",
       "      <td>1</td>\n",
       "      <td>0</td>\n",
       "      <td>71.2833</td>\n",
       "    </tr>\n",
       "    <tr>\n",
       "      <th>2</th>\n",
       "      <td>1</td>\n",
       "      <td>3</td>\n",
       "      <td>Miss. Laina Heikkinen</td>\n",
       "      <td>female</td>\n",
       "      <td>26.0</td>\n",
       "      <td>0</td>\n",
       "      <td>0</td>\n",
       "      <td>7.9250</td>\n",
       "    </tr>\n",
       "    <tr>\n",
       "      <th>3</th>\n",
       "      <td>1</td>\n",
       "      <td>1</td>\n",
       "      <td>Mrs. Jacques Heath (Lily May Peel) Futrelle</td>\n",
       "      <td>female</td>\n",
       "      <td>35.0</td>\n",
       "      <td>1</td>\n",
       "      <td>0</td>\n",
       "      <td>53.1000</td>\n",
       "    </tr>\n",
       "    <tr>\n",
       "      <th>4</th>\n",
       "      <td>0</td>\n",
       "      <td>3</td>\n",
       "      <td>Mr. William Henry Allen</td>\n",
       "      <td>male</td>\n",
       "      <td>35.0</td>\n",
       "      <td>0</td>\n",
       "      <td>0</td>\n",
       "      <td>8.0500</td>\n",
       "    </tr>\n",
       "    <tr>\n",
       "      <th>...</th>\n",
       "      <td>...</td>\n",
       "      <td>...</td>\n",
       "      <td>...</td>\n",
       "      <td>...</td>\n",
       "      <td>...</td>\n",
       "      <td>...</td>\n",
       "      <td>...</td>\n",
       "      <td>...</td>\n",
       "    </tr>\n",
       "    <tr>\n",
       "      <th>882</th>\n",
       "      <td>0</td>\n",
       "      <td>2</td>\n",
       "      <td>Rev. Juozas Montvila</td>\n",
       "      <td>male</td>\n",
       "      <td>27.0</td>\n",
       "      <td>0</td>\n",
       "      <td>0</td>\n",
       "      <td>13.0000</td>\n",
       "    </tr>\n",
       "    <tr>\n",
       "      <th>883</th>\n",
       "      <td>1</td>\n",
       "      <td>1</td>\n",
       "      <td>Miss. Margaret Edith Graham</td>\n",
       "      <td>female</td>\n",
       "      <td>19.0</td>\n",
       "      <td>0</td>\n",
       "      <td>0</td>\n",
       "      <td>30.0000</td>\n",
       "    </tr>\n",
       "    <tr>\n",
       "      <th>884</th>\n",
       "      <td>0</td>\n",
       "      <td>3</td>\n",
       "      <td>Miss. Catherine Helen Johnston</td>\n",
       "      <td>female</td>\n",
       "      <td>7.0</td>\n",
       "      <td>1</td>\n",
       "      <td>2</td>\n",
       "      <td>23.4500</td>\n",
       "    </tr>\n",
       "    <tr>\n",
       "      <th>885</th>\n",
       "      <td>1</td>\n",
       "      <td>1</td>\n",
       "      <td>Mr. Karl Howell Behr</td>\n",
       "      <td>male</td>\n",
       "      <td>26.0</td>\n",
       "      <td>0</td>\n",
       "      <td>0</td>\n",
       "      <td>30.0000</td>\n",
       "    </tr>\n",
       "    <tr>\n",
       "      <th>886</th>\n",
       "      <td>0</td>\n",
       "      <td>3</td>\n",
       "      <td>Mr. Patrick Dooley</td>\n",
       "      <td>male</td>\n",
       "      <td>32.0</td>\n",
       "      <td>0</td>\n",
       "      <td>0</td>\n",
       "      <td>7.7500</td>\n",
       "    </tr>\n",
       "  </tbody>\n",
       "</table>\n",
       "<p>887 rows × 8 columns</p>\n",
       "</div>"
      ],
      "text/plain": [
       "     Survived  Pclass                                               Name  \\\n",
       "0           0       3                             Mr. Owen Harris Braund   \n",
       "1           1       1  Mrs. John Bradley (Florence Briggs Thayer) Cum...   \n",
       "2           1       3                              Miss. Laina Heikkinen   \n",
       "3           1       1        Mrs. Jacques Heath (Lily May Peel) Futrelle   \n",
       "4           0       3                            Mr. William Henry Allen   \n",
       "..        ...     ...                                                ...   \n",
       "882         0       2                               Rev. Juozas Montvila   \n",
       "883         1       1                        Miss. Margaret Edith Graham   \n",
       "884         0       3                     Miss. Catherine Helen Johnston   \n",
       "885         1       1                               Mr. Karl Howell Behr   \n",
       "886         0       3                                 Mr. Patrick Dooley   \n",
       "\n",
       "        Sex   Age  Siblings/Spouses Aboard  Parents/Children Aboard     Fare  \n",
       "0      male  22.0                        1                        0   7.2500  \n",
       "1    female  38.0                        1                        0  71.2833  \n",
       "2    female  26.0                        0                        0   7.9250  \n",
       "3    female  35.0                        1                        0  53.1000  \n",
       "4      male  35.0                        0                        0   8.0500  \n",
       "..      ...   ...                      ...                      ...      ...  \n",
       "882    male  27.0                        0                        0  13.0000  \n",
       "883  female  19.0                        0                        0  30.0000  \n",
       "884  female   7.0                        1                        2  23.4500  \n",
       "885    male  26.0                        0                        0  30.0000  \n",
       "886    male  32.0                        0                        0   7.7500  \n",
       "\n",
       "[887 rows x 8 columns]"
      ]
     },
     "execution_count": 10,
     "metadata": {},
     "output_type": "execute_result"
    }
   ],
   "source": [
    "dataset"
   ]
  },
  {
   "cell_type": "code",
   "execution_count": 11,
   "id": "e9391e36",
   "metadata": {},
   "outputs": [
    {
     "name": "stdout",
     "output_type": "stream",
     "text": [
      "<class 'pandas.core.frame.DataFrame'>\n",
      "RangeIndex: 887 entries, 0 to 886\n",
      "Data columns (total 8 columns):\n",
      " #   Column                   Non-Null Count  Dtype  \n",
      "---  ------                   --------------  -----  \n",
      " 0   Survived                 887 non-null    int64  \n",
      " 1   Pclass                   887 non-null    int64  \n",
      " 2   Name                     887 non-null    object \n",
      " 3   Sex                      887 non-null    object \n",
      " 4   Age                      887 non-null    float64\n",
      " 5   Siblings/Spouses Aboard  887 non-null    int64  \n",
      " 6   Parents/Children Aboard  887 non-null    int64  \n",
      " 7   Fare                     887 non-null    float64\n",
      "dtypes: float64(2), int64(4), object(2)\n",
      "memory usage: 55.6+ KB\n"
     ]
    }
   ],
   "source": [
    "dataset.info()"
   ]
  },
  {
   "cell_type": "code",
   "execution_count": 12,
   "id": "34f380af",
   "metadata": {},
   "outputs": [
    {
     "data": {
      "text/html": [
       "<div>\n",
       "<style scoped>\n",
       "    .dataframe tbody tr th:only-of-type {\n",
       "        vertical-align: middle;\n",
       "    }\n",
       "\n",
       "    .dataframe tbody tr th {\n",
       "        vertical-align: top;\n",
       "    }\n",
       "\n",
       "    .dataframe thead th {\n",
       "        text-align: right;\n",
       "    }\n",
       "</style>\n",
       "<table border=\"1\" class=\"dataframe\">\n",
       "  <thead>\n",
       "    <tr style=\"text-align: right;\">\n",
       "      <th></th>\n",
       "      <th>Name</th>\n",
       "      <th>Sex</th>\n",
       "    </tr>\n",
       "  </thead>\n",
       "  <tbody>\n",
       "    <tr>\n",
       "      <th>count</th>\n",
       "      <td>887</td>\n",
       "      <td>887</td>\n",
       "    </tr>\n",
       "    <tr>\n",
       "      <th>unique</th>\n",
       "      <td>887</td>\n",
       "      <td>2</td>\n",
       "    </tr>\n",
       "    <tr>\n",
       "      <th>top</th>\n",
       "      <td>Mr. Owen Harris Braund</td>\n",
       "      <td>male</td>\n",
       "    </tr>\n",
       "    <tr>\n",
       "      <th>freq</th>\n",
       "      <td>1</td>\n",
       "      <td>573</td>\n",
       "    </tr>\n",
       "  </tbody>\n",
       "</table>\n",
       "</div>"
      ],
      "text/plain": [
       "                          Name   Sex\n",
       "count                      887   887\n",
       "unique                     887     2\n",
       "top     Mr. Owen Harris Braund  male\n",
       "freq                         1   573"
      ]
     },
     "execution_count": 12,
     "metadata": {},
     "output_type": "execute_result"
    }
   ],
   "source": [
    "dataset.describe(include=['O'])"
   ]
  },
  {
   "cell_type": "code",
   "execution_count": 14,
   "id": "7b0855ca",
   "metadata": {},
   "outputs": [
    {
     "data": {
      "text/plain": [
       "Siblings/Spouses Aboard\n",
       "0    604\n",
       "1    209\n",
       "2     28\n",
       "3     16\n",
       "4     18\n",
       "5      5\n",
       "8      7\n",
       "Name: count, dtype: int64"
      ]
     },
     "execution_count": 14,
     "metadata": {},
     "output_type": "execute_result"
    }
   ],
   "source": [
    "dataset['Siblings/Spouses Aboard'].value_counts().sort_index()"
   ]
  },
  {
   "cell_type": "code",
   "execution_count": 15,
   "id": "58239a35",
   "metadata": {},
   "outputs": [
    {
     "data": {
      "text/plain": [
       "Parents/Children Aboard\n",
       "0    674\n",
       "1    118\n",
       "2     80\n",
       "3      5\n",
       "4      4\n",
       "5      5\n",
       "6      1\n",
       "Name: count, dtype: int64"
      ]
     },
     "execution_count": 15,
     "metadata": {},
     "output_type": "execute_result"
    }
   ],
   "source": [
    "dataset['Parents/Children Aboard'].value_counts().sort_index()"
   ]
  },
  {
   "cell_type": "code",
   "execution_count": 17,
   "id": "43990f9c",
   "metadata": {},
   "outputs": [
    {
     "data": {
      "text/plain": [
       "Pclass\n",
       "3    487\n",
       "1    216\n",
       "2    184\n",
       "Name: count, dtype: int64"
      ]
     },
     "execution_count": 17,
     "metadata": {},
     "output_type": "execute_result"
    }
   ],
   "source": [
    "dataset.Pclass.value_counts()"
   ]
  },
  {
   "cell_type": "code",
   "execution_count": 19,
   "id": "c0ff6eaf",
   "metadata": {},
   "outputs": [
    {
     "data": {
      "text/plain": [
       "Survived\n",
       "0    0.614431\n",
       "1    0.385569\n",
       "Name: count, dtype: float64"
      ]
     },
     "execution_count": 19,
     "metadata": {},
     "output_type": "execute_result"
    }
   ],
   "source": [
    "dataset.Survived.value_counts() / dataset.shape[0]"
   ]
  },
  {
   "cell_type": "markdown",
   "id": "2aeec8b6",
   "metadata": {},
   "source": [
    "**Dataset preprocessing**"
   ]
  },
  {
   "cell_type": "code",
   "execution_count": 20,
   "id": "2a1bcd11",
   "metadata": {},
   "outputs": [
    {
     "data": {
      "text/html": [
       "<div>\n",
       "<style scoped>\n",
       "    .dataframe tbody tr th:only-of-type {\n",
       "        vertical-align: middle;\n",
       "    }\n",
       "\n",
       "    .dataframe tbody tr th {\n",
       "        vertical-align: top;\n",
       "    }\n",
       "\n",
       "    .dataframe thead th {\n",
       "        text-align: right;\n",
       "    }\n",
       "</style>\n",
       "<table border=\"1\" class=\"dataframe\">\n",
       "  <thead>\n",
       "    <tr style=\"text-align: right;\">\n",
       "      <th></th>\n",
       "      <th>Survived</th>\n",
       "      <th>Pclass</th>\n",
       "      <th>Sex</th>\n",
       "      <th>Age</th>\n",
       "      <th>Siblings/Spouses Aboard</th>\n",
       "      <th>Parents/Children Aboard</th>\n",
       "      <th>Fare</th>\n",
       "    </tr>\n",
       "  </thead>\n",
       "  <tbody>\n",
       "    <tr>\n",
       "      <th>0</th>\n",
       "      <td>0</td>\n",
       "      <td>3</td>\n",
       "      <td>male</td>\n",
       "      <td>22.0</td>\n",
       "      <td>1</td>\n",
       "      <td>0</td>\n",
       "      <td>7.2500</td>\n",
       "    </tr>\n",
       "    <tr>\n",
       "      <th>1</th>\n",
       "      <td>1</td>\n",
       "      <td>1</td>\n",
       "      <td>female</td>\n",
       "      <td>38.0</td>\n",
       "      <td>1</td>\n",
       "      <td>0</td>\n",
       "      <td>71.2833</td>\n",
       "    </tr>\n",
       "    <tr>\n",
       "      <th>2</th>\n",
       "      <td>1</td>\n",
       "      <td>3</td>\n",
       "      <td>female</td>\n",
       "      <td>26.0</td>\n",
       "      <td>0</td>\n",
       "      <td>0</td>\n",
       "      <td>7.9250</td>\n",
       "    </tr>\n",
       "    <tr>\n",
       "      <th>3</th>\n",
       "      <td>1</td>\n",
       "      <td>1</td>\n",
       "      <td>female</td>\n",
       "      <td>35.0</td>\n",
       "      <td>1</td>\n",
       "      <td>0</td>\n",
       "      <td>53.1000</td>\n",
       "    </tr>\n",
       "    <tr>\n",
       "      <th>4</th>\n",
       "      <td>0</td>\n",
       "      <td>3</td>\n",
       "      <td>male</td>\n",
       "      <td>35.0</td>\n",
       "      <td>0</td>\n",
       "      <td>0</td>\n",
       "      <td>8.0500</td>\n",
       "    </tr>\n",
       "    <tr>\n",
       "      <th>...</th>\n",
       "      <td>...</td>\n",
       "      <td>...</td>\n",
       "      <td>...</td>\n",
       "      <td>...</td>\n",
       "      <td>...</td>\n",
       "      <td>...</td>\n",
       "      <td>...</td>\n",
       "    </tr>\n",
       "    <tr>\n",
       "      <th>882</th>\n",
       "      <td>0</td>\n",
       "      <td>2</td>\n",
       "      <td>male</td>\n",
       "      <td>27.0</td>\n",
       "      <td>0</td>\n",
       "      <td>0</td>\n",
       "      <td>13.0000</td>\n",
       "    </tr>\n",
       "    <tr>\n",
       "      <th>883</th>\n",
       "      <td>1</td>\n",
       "      <td>1</td>\n",
       "      <td>female</td>\n",
       "      <td>19.0</td>\n",
       "      <td>0</td>\n",
       "      <td>0</td>\n",
       "      <td>30.0000</td>\n",
       "    </tr>\n",
       "    <tr>\n",
       "      <th>884</th>\n",
       "      <td>0</td>\n",
       "      <td>3</td>\n",
       "      <td>female</td>\n",
       "      <td>7.0</td>\n",
       "      <td>1</td>\n",
       "      <td>2</td>\n",
       "      <td>23.4500</td>\n",
       "    </tr>\n",
       "    <tr>\n",
       "      <th>885</th>\n",
       "      <td>1</td>\n",
       "      <td>1</td>\n",
       "      <td>male</td>\n",
       "      <td>26.0</td>\n",
       "      <td>0</td>\n",
       "      <td>0</td>\n",
       "      <td>30.0000</td>\n",
       "    </tr>\n",
       "    <tr>\n",
       "      <th>886</th>\n",
       "      <td>0</td>\n",
       "      <td>3</td>\n",
       "      <td>male</td>\n",
       "      <td>32.0</td>\n",
       "      <td>0</td>\n",
       "      <td>0</td>\n",
       "      <td>7.7500</td>\n",
       "    </tr>\n",
       "  </tbody>\n",
       "</table>\n",
       "<p>887 rows × 7 columns</p>\n",
       "</div>"
      ],
      "text/plain": [
       "     Survived  Pclass     Sex   Age  Siblings/Spouses Aboard  \\\n",
       "0           0       3    male  22.0                        1   \n",
       "1           1       1  female  38.0                        1   \n",
       "2           1       3  female  26.0                        0   \n",
       "3           1       1  female  35.0                        1   \n",
       "4           0       3    male  35.0                        0   \n",
       "..        ...     ...     ...   ...                      ...   \n",
       "882         0       2    male  27.0                        0   \n",
       "883         1       1  female  19.0                        0   \n",
       "884         0       3  female   7.0                        1   \n",
       "885         1       1    male  26.0                        0   \n",
       "886         0       3    male  32.0                        0   \n",
       "\n",
       "     Parents/Children Aboard     Fare  \n",
       "0                          0   7.2500  \n",
       "1                          0  71.2833  \n",
       "2                          0   7.9250  \n",
       "3                          0  53.1000  \n",
       "4                          0   8.0500  \n",
       "..                       ...      ...  \n",
       "882                        0  13.0000  \n",
       "883                        0  30.0000  \n",
       "884                        2  23.4500  \n",
       "885                        0  30.0000  \n",
       "886                        0   7.7500  \n",
       "\n",
       "[887 rows x 7 columns]"
      ]
     },
     "execution_count": 20,
     "metadata": {},
     "output_type": "execute_result"
    }
   ],
   "source": [
    "dataset.drop(columns='Name', inplace=True)\n",
    "dataset"
   ]
  },
  {
   "cell_type": "code",
   "execution_count": 21,
   "id": "c5927e04",
   "metadata": {},
   "outputs": [],
   "source": [
    "dataset.Pclass = dataset.Pclass.astype(str)"
   ]
  },
  {
   "cell_type": "code",
   "execution_count": 22,
   "id": "e3b599ff",
   "metadata": {},
   "outputs": [
    {
     "data": {
      "text/html": [
       "<div>\n",
       "<style scoped>\n",
       "    .dataframe tbody tr th:only-of-type {\n",
       "        vertical-align: middle;\n",
       "    }\n",
       "\n",
       "    .dataframe tbody tr th {\n",
       "        vertical-align: top;\n",
       "    }\n",
       "\n",
       "    .dataframe thead th {\n",
       "        text-align: right;\n",
       "    }\n",
       "</style>\n",
       "<table border=\"1\" class=\"dataframe\">\n",
       "  <thead>\n",
       "    <tr style=\"text-align: right;\">\n",
       "      <th></th>\n",
       "      <th>Pclass_1</th>\n",
       "      <th>Pclass_2</th>\n",
       "      <th>Pclass_3</th>\n",
       "      <th>Sex_female</th>\n",
       "      <th>Sex_male</th>\n",
       "    </tr>\n",
       "  </thead>\n",
       "  <tbody>\n",
       "    <tr>\n",
       "      <th>0</th>\n",
       "      <td>0.0</td>\n",
       "      <td>0.0</td>\n",
       "      <td>1.0</td>\n",
       "      <td>0.0</td>\n",
       "      <td>1.0</td>\n",
       "    </tr>\n",
       "    <tr>\n",
       "      <th>1</th>\n",
       "      <td>1.0</td>\n",
       "      <td>0.0</td>\n",
       "      <td>0.0</td>\n",
       "      <td>1.0</td>\n",
       "      <td>0.0</td>\n",
       "    </tr>\n",
       "    <tr>\n",
       "      <th>2</th>\n",
       "      <td>0.0</td>\n",
       "      <td>0.0</td>\n",
       "      <td>1.0</td>\n",
       "      <td>1.0</td>\n",
       "      <td>0.0</td>\n",
       "    </tr>\n",
       "    <tr>\n",
       "      <th>3</th>\n",
       "      <td>1.0</td>\n",
       "      <td>0.0</td>\n",
       "      <td>0.0</td>\n",
       "      <td>1.0</td>\n",
       "      <td>0.0</td>\n",
       "    </tr>\n",
       "    <tr>\n",
       "      <th>4</th>\n",
       "      <td>0.0</td>\n",
       "      <td>0.0</td>\n",
       "      <td>1.0</td>\n",
       "      <td>0.0</td>\n",
       "      <td>1.0</td>\n",
       "    </tr>\n",
       "    <tr>\n",
       "      <th>...</th>\n",
       "      <td>...</td>\n",
       "      <td>...</td>\n",
       "      <td>...</td>\n",
       "      <td>...</td>\n",
       "      <td>...</td>\n",
       "    </tr>\n",
       "    <tr>\n",
       "      <th>882</th>\n",
       "      <td>0.0</td>\n",
       "      <td>1.0</td>\n",
       "      <td>0.0</td>\n",
       "      <td>0.0</td>\n",
       "      <td>1.0</td>\n",
       "    </tr>\n",
       "    <tr>\n",
       "      <th>883</th>\n",
       "      <td>1.0</td>\n",
       "      <td>0.0</td>\n",
       "      <td>0.0</td>\n",
       "      <td>1.0</td>\n",
       "      <td>0.0</td>\n",
       "    </tr>\n",
       "    <tr>\n",
       "      <th>884</th>\n",
       "      <td>0.0</td>\n",
       "      <td>0.0</td>\n",
       "      <td>1.0</td>\n",
       "      <td>1.0</td>\n",
       "      <td>0.0</td>\n",
       "    </tr>\n",
       "    <tr>\n",
       "      <th>885</th>\n",
       "      <td>1.0</td>\n",
       "      <td>0.0</td>\n",
       "      <td>0.0</td>\n",
       "      <td>0.0</td>\n",
       "      <td>1.0</td>\n",
       "    </tr>\n",
       "    <tr>\n",
       "      <th>886</th>\n",
       "      <td>0.0</td>\n",
       "      <td>0.0</td>\n",
       "      <td>1.0</td>\n",
       "      <td>0.0</td>\n",
       "      <td>1.0</td>\n",
       "    </tr>\n",
       "  </tbody>\n",
       "</table>\n",
       "<p>887 rows × 5 columns</p>\n",
       "</div>"
      ],
      "text/plain": [
       "     Pclass_1  Pclass_2  Pclass_3  Sex_female  Sex_male\n",
       "0         0.0       0.0       1.0         0.0       1.0\n",
       "1         1.0       0.0       0.0         1.0       0.0\n",
       "2         0.0       0.0       1.0         1.0       0.0\n",
       "3         1.0       0.0       0.0         1.0       0.0\n",
       "4         0.0       0.0       1.0         0.0       1.0\n",
       "..        ...       ...       ...         ...       ...\n",
       "882       0.0       1.0       0.0         0.0       1.0\n",
       "883       1.0       0.0       0.0         1.0       0.0\n",
       "884       0.0       0.0       1.0         1.0       0.0\n",
       "885       1.0       0.0       0.0         0.0       1.0\n",
       "886       0.0       0.0       1.0         0.0       1.0\n",
       "\n",
       "[887 rows x 5 columns]"
      ]
     },
     "execution_count": 22,
     "metadata": {},
     "output_type": "execute_result"
    }
   ],
   "source": [
    "ohe = OneHotEncoder(sparse_output=False)\n",
    "# ohe.fit(dataset.select_dtypes('O'))\n",
    "# ohe.transform(dataset.select_dtypes('O'))\n",
    "ohe_data = ohe.fit_transform(dataset.select_dtypes('O'))\n",
    "ohe_df = pd.DataFrame(data=ohe_data, columns=ohe.get_feature_names_out())\n",
    "ohe_df"
   ]
  },
  {
   "cell_type": "code",
   "execution_count": 23,
   "id": "213f159c",
   "metadata": {},
   "outputs": [],
   "source": [
    "dataset = pd.concat([dataset.select_dtypes(exclude='O'), ohe_df], axis=1)"
   ]
  },
  {
   "cell_type": "code",
   "execution_count": 24,
   "id": "2008189b",
   "metadata": {},
   "outputs": [],
   "source": [
    "X = dataset.drop(columns='Survived')\n",
    "y = dataset.Survived\n",
    "X_train, X_test, y_train, y_test = train_test_split(X,\n",
    "                                                    y,\n",
    "                                                    train_size=0.6,\n",
    "                                                    random_state=42)"
   ]
  },
  {
   "cell_type": "markdown",
   "id": "5b4f9977",
   "metadata": {},
   "source": [
    "## Regularization"
   ]
  },
  {
   "cell_type": "markdown",
   "id": "df5b2a04",
   "metadata": {},
   "source": [
    "**Regularization** techniques are modifications introduced in models aimed at **reducing overfitting**. The modification usually involves putting constraints on the coefficient's estimate or altering the training process with additional steps. Good regularization technique will decrease **variance** significantly, while not increasing **bias** or increasing it slightly.\n",
    "\n",
    "Examples of regularization techniques are:\n",
    "- L1 regularization (e.g. lasso regression)\n",
    "- L2 regualrization (e.g. ridge regression)\n",
    "- Elasticnet\n",
    "- cost/complexity pruning for decision trees\n",
    "- cost parameter for support vector machines\n",
    "- dropout for neural networks\n",
    "- early stopping\n"
   ]
  },
  {
   "cell_type": "markdown",
   "id": "eb44c82d",
   "metadata": {},
   "source": [
    "L1:$$min\\frac{1}{n}||Xw-y||^2+\\lambda||w||_1 \\quad \\left(\\lambda\\sum_i|w_i|\\right)$$\n",
    "L2:$$min\\frac{1}{n}||Xw-y||^2+\\lambda||w||_2^2 \\quad \\left(\\lambda\\sum_iw_i^2\\right)$$\n",
    "Elasticnet:\n",
    "$$min\\frac{1}{n}||Xw-y||^2+\\lambda\\left(\\alpha||w||_1+(1-\\alpha)||w||_2^2\\right) \\quad \\left(\\lambda\\left(\\alpha\\sum_i|w_i|+(1-\\alpha)\\sum_iw_i^2\\right)\\right)$$\n",
    "\n",
    "![](https://upload.wikimedia.org/wikipedia/commons/b/b8/Sparsityl1.png)\n",
    "![](https://upload.wikimedia.org/wikipedia/commons/f/f7/Sparsityen.png)"
   ]
  },
  {
   "cell_type": "markdown",
   "id": "d69fa5fd",
   "metadata": {},
   "source": [
    "Logistic regression without regularization"
   ]
  },
  {
   "cell_type": "code",
   "execution_count": 25,
   "id": "c3523685",
   "metadata": {},
   "outputs": [
    {
     "name": "stdout",
     "output_type": "stream",
     "text": [
      "AUC for logistic regression with no regularization: 0.815\n"
     ]
    }
   ],
   "source": [
    "lr_titanic = LR(penalty=None, max_iter=1000)\n",
    "lr_titanic.fit(X_train, y_train)\n",
    "lr_no_reg_auc = roc_auc_score(y_test, lr_titanic.predict_proba(X_test)[:, 1])\n",
    "print(\n",
    "    f\"AUC for logistic regression with no regularization: {lr_no_reg_auc:.3f}\")"
   ]
  },
  {
   "cell_type": "markdown",
   "id": "f7a19633",
   "metadata": {},
   "source": [
    "**Hyperparameter tuning**\n",
    "\n",
    "Tuning elements:\n",
    "- metric (F1-score, AUC)\n",
    "- hyperparameter(s) (cutoff threshold, regularization strength, number of trees)\n",
    "- technique (grid search, random search, bayesian search)\n",
    "\n",
    "Task: Find value of regularization strength (C) and type of regularization (L1/L2) that maximizes AUC on validation set"
   ]
  },
  {
   "cell_type": "markdown",
   "id": "d9bc9f7b",
   "metadata": {},
   "source": [
    "Logistic regression L1 regularization"
   ]
  },
  {
   "cell_type": "code",
   "execution_count": 26,
   "id": "ce933976",
   "metadata": {},
   "outputs": [],
   "source": [
    "def model_auc(model, X_train, X_test, y_train, y_test):\n",
    "    trained_model = model.fit(X_train, y_train)\n",
    "    return roc_auc_score(y_test, trained_model.predict_proba(X_test)[:, 1])"
   ]
  },
  {
   "cell_type": "code",
   "execution_count": 27,
   "id": "c532088e",
   "metadata": {},
   "outputs": [],
   "source": [
    "cs = np.linspace(0.001, 0.2, 100)  # 100 values of C evenly distributed between 0.001 and 0.2"
   ]
  },
  {
   "cell_type": "code",
   "execution_count": 34,
   "id": "93d32192",
   "metadata": {},
   "outputs": [
    {
     "name": "stdout",
     "output_type": "stream",
     "text": [
      "[0.001      0.0030101  0.0050202  0.0070303  0.0090404  0.01105051\n",
      " 0.01306061 0.01507071 0.01708081 0.01909091 0.02110101 0.02311111\n",
      " 0.02512121 0.02713131 0.02914141 0.03115152 0.03316162 0.03517172\n",
      " 0.03718182 0.03919192 0.04120202 0.04321212 0.04522222 0.04723232\n",
      " 0.04924242 0.05125253 0.05326263 0.05527273 0.05728283 0.05929293\n",
      " 0.06130303 0.06331313 0.06532323 0.06733333 0.06934343 0.07135354\n",
      " 0.07336364 0.07537374 0.07738384 0.07939394 0.08140404 0.08341414\n",
      " 0.08542424 0.08743434 0.08944444 0.09145455 0.09346465 0.09547475\n",
      " 0.09748485 0.09949495 0.10150505 0.10351515 0.10552525 0.10753535\n",
      " 0.10954545 0.11155556 0.11356566 0.11557576 0.11758586 0.11959596\n",
      " 0.12160606 0.12361616 0.12562626 0.12763636 0.12964646 0.13165657\n",
      " 0.13366667 0.13567677 0.13768687 0.13969697 0.14170707 0.14371717\n",
      " 0.14572727 0.14773737 0.14974747 0.15175758 0.15376768 0.15577778\n",
      " 0.15778788 0.15979798 0.16180808 0.16381818 0.16582828 0.16783838\n",
      " 0.16984848 0.17185859 0.17386869 0.17587879 0.17788889 0.17989899\n",
      " 0.18190909 0.18391919 0.18592929 0.18793939 0.18994949 0.1919596\n",
      " 0.1939697  0.1959798  0.1979899  0.2       ]\n"
     ]
    }
   ],
   "source": [
    "print(cs)"
   ]
  },
  {
   "cell_type": "code",
   "execution_count": 28,
   "id": "a5324367",
   "metadata": {},
   "outputs": [
    {
     "name": "stderr",
     "output_type": "stream",
     "text": [
      "100%|██████████| 100/100 [00:00<00:00, 160.60it/s]\n"
     ]
    }
   ],
   "source": [
    "LR_L1 = partial(LR, penalty='l1', max_iter=1000, solver='liblinear')\n",
    "aucs_l1 = [\n",
    "    model_auc(LR_L1(C=c), X_train, X_test, y_train, y_test) for c in tqdm(cs)\n",
    "]"
   ]
  },
  {
   "cell_type": "code",
   "execution_count": 35,
   "id": "9dd0a7ab",
   "metadata": {},
   "outputs": [
    {
     "name": "stdout",
     "output_type": "stream",
     "text": [
      "[0.6191920196195401, 0.6368893749585736, 0.6393086763438722, 0.6408663087426261, 0.6417611188440379, 0.6418274010737721, 0.6421919533373102, 0.7179194008086432, 0.7734307682110427, 0.7883774110161066, 0.7955690329422681, 0.8050142506793929, 0.8099191356797243, 0.8112779213892755, 0.8127692715582951, 0.8144594684165175, 0.8170113342612846, 0.8187015311195069, 0.8195632001060515, 0.8200603168290581, 0.8229767349373632, 0.8274507854444223, 0.8294061112215813, 0.8300026512891894, 0.8306986147013986, 0.8307317558162658, 0.8304003446675946, 0.829903227944588, 0.8297375223702527, 0.8287432889242394, 0.8287432889242394, 0.8278484788228275, 0.8270199509511499, 0.8267548220322133, 0.8264565519984093, 0.8261914230794725, 0.8257605885862, 0.8253297540929276, 0.8249983429442567, 0.8247000729104527, 0.824468085106383, 0.824169815072579, 0.823871545038775, 0.8236726983495724, 0.8231092993968318, 0.8225459004440909, 0.8224464770994897, 0.8218499370318818, 0.8217505136872804, 0.821286538079141, 0.8209551269304699, 0.8207562802412673, 0.8203585868628621, 0.8201928812885265, 0.8198946112547226, 0.8196294823357858, 0.8191986478425135, 0.8188009544641082, 0.8185689666600383, 0.8185026844303043, 0.81843640220057, 0.8182706966262345, 0.8184032610857029, 0.81843640220057, 0.818734672234374, 0.8185689666600384, 0.8187346722343739, 0.8189335189235766, 0.8187678133492411, 0.8183701199708359, 0.8184364022005699, 0.8185026844303042, 0.8185026844303043, 0.8184032610857028, 0.8180387088221648, 0.8181712732816331, 0.8183369788559687, 0.8185358255451713, 0.8185358255451713, 0.8186683900046398, 0.8185358255451713, 0.81843640220057, 0.8185026844303043, 0.8185026844303042, 0.8184695433154372, 0.8185026844303043, 0.8182375555113673, 0.8180055677072976, 0.8181712732816332, 0.817773579903228, 0.8177072976734936, 0.8178398621329621, 0.8177404387883609, 0.817773579903228, 0.8178730032478293, 0.8178398621329622, 0.8179392854775636, 0.8179061443626964, 0.8178398621329621, 0.8178398621329621]\n"
     ]
    }
   ],
   "source": [
    "print(aucs_l1)"
   ]
  },
  {
   "cell_type": "code",
   "execution_count": 29,
   "id": "466d220f",
   "metadata": {},
   "outputs": [
    {
     "data": {
      "image/png": "[encoded data removed]",
      "text/plain": [
       "<Figure size 640x480 with 1 Axes>"
      ]
     },
     "metadata": {},
     "output_type": "display_data"
    }
   ],
   "source": [
    "p = sns.lineplot(x=cs, y=aucs_l1)\n",
    "p.set_xlabel(\"C\")\n",
    "p.set_ylabel(\"AUC\")\n",
    "p.set_title(\"Logistic regression with L1 penalty\");"
   ]
  },
  {
   "cell_type": "code",
   "execution_count": 30,
   "id": "6ed6d4fc",
   "metadata": {},
   "outputs": [],
   "source": [
    "def lr_l1_coeffs_for_c(c):\n",
    "    return dict(zip(X_train.columns,\n",
    "                    LR_L1(C=c).fit(X_train, y_train).coef_[0]))"
   ]
  },
  {
   "cell_type": "code",
   "execution_count": 31,
   "id": "fcfa6153",
   "metadata": {},
   "outputs": [
    {
     "data": {
      "text/plain": [
       "{'Age': -0.026380042177633414,\n",
       " 'Siblings/Spouses Aboard': 0.0,\n",
       " 'Parents/Children Aboard': 0.0,\n",
       " 'Fare': 0.011384054821290695,\n",
       " 'Pclass_1': 0.0,\n",
       " 'Pclass_2': 0.0,\n",
       " 'Pclass_3': 0.0,\n",
       " 'Sex_female': 0.0,\n",
       " 'Sex_male': 0.0}"
      ]
     },
     "execution_count": 31,
     "metadata": {},
     "output_type": "execute_result"
    }
   ],
   "source": [
    "lr_l1_coeffs_for_c(0.01)"
   ]
  },
  {
   "cell_type": "code",
   "execution_count": 32,
   "id": "f92c3aaf",
   "metadata": {},
   "outputs": [
    {
     "data": {
      "text/plain": [
       "{'Age': -0.014291783932735669,\n",
       " 'Siblings/Spouses Aboard': 0.0,\n",
       " 'Parents/Children Aboard': 0.0,\n",
       " 'Fare': 0.010765102600227736,\n",
       " 'Pclass_1': 0.0,\n",
       " 'Pclass_2': 0.0,\n",
       " 'Pclass_3': 0.0,\n",
       " 'Sex_female': 0.0,\n",
       " 'Sex_male': -0.6695633401815834}"
      ]
     },
     "execution_count": 32,
     "metadata": {},
     "output_type": "execute_result"
    }
   ],
   "source": [
    "lr_l1_coeffs_for_c(0.02)"
   ]
  },
  {
   "cell_type": "markdown",
   "id": "69157996",
   "metadata": {},
   "source": [
    "**Important note:** L1 penalty prevents overfitting but also serves as **feature selection** method"
   ]
  },
  {
   "cell_type": "markdown",
   "id": "3e2519d4",
   "metadata": {},
   "source": [
    "Logistic regression L2 regularization"
   ]
  },
  {
   "cell_type": "code",
   "execution_count": 36,
   "id": "54d68e46",
   "metadata": {},
   "outputs": [
    {
     "name": "stderr",
     "output_type": "stream",
     "text": [
      "100%|██████████| 100/100 [00:01<00:00, 53.61it/s]\n"
     ]
    }
   ],
   "source": [
    "aucs_l2 = [\n",
    "    model_auc(LR(C=c, max_iter=1000), X_train, X_test, y_train, y_test)\n",
    "    for c in tqdm(cs)\n",
    "]\n"
   ]
  },
  {
   "cell_type": "code",
   "execution_count": 37,
   "id": "6470c04b",
   "metadata": {},
   "outputs": [
    {
     "data": {
      "image/png": "[encoded data removed]",
      "text/plain": [
       "<Figure size 640x480 with 1 Axes>"
      ]
     },
     "metadata": {},
     "output_type": "display_data"
    }
   ],
   "source": [
    "p = sns.lineplot(x=cs, y=aucs_l2)\n",
    "p.set_xlabel(\"C\")\n",
    "p.set_ylabel(\"AUC\")\n",
    "p.set_title(\"Logistic regression with L2 penalty\");"
   ]
  },
  {
   "cell_type": "markdown",
   "id": "c375058a",
   "metadata": {},
   "source": [
    "Support Vector Classifier"
   ]
  },
  {
   "cell_type": "code",
   "execution_count": 38,
   "id": "25d5946d",
   "metadata": {},
   "outputs": [
    {
     "name": "stderr",
     "output_type": "stream",
     "text": [
      "100%|██████████| 100/100 [00:09<00:00, 10.15it/s]\n"
     ]
    }
   ],
   "source": [
    "cs_svc = np.linspace(0.01, 300, 100)\n",
    "aucs_svc = [\n",
    "    model_auc(SVC(C=c, probability=True), X_train, X_test, y_train, y_test)\n",
    "    for c in tqdm(cs_svc)\n",
    "]"
   ]
  },
  {
   "cell_type": "code",
   "execution_count": 39,
   "id": "e0b2efeb",
   "metadata": {},
   "outputs": [
    {
     "data": {
      "image/png": "[encoded data removed]",
      "text/plain": [
       "<Figure size 640x480 with 1 Axes>"
      ]
     },
     "metadata": {},
     "output_type": "display_data"
    }
   ],
   "source": [
    "p = sns.lineplot(x=cs_svc, y=aucs_svc)\n",
    "p.set_xlabel(\"C\")\n",
    "p.set_ylabel(\"AUC\")\n",
    "p.set_title(\"Support Vector Classifier\");"
   ]
  },
  {
   "cell_type": "markdown",
   "id": "69383718",
   "metadata": {},
   "source": [
    "**Summary for all models**"
   ]
  },
  {
   "cell_type": "code",
   "execution_count": 40,
   "id": "1433b428",
   "metadata": {},
   "outputs": [
    {
     "name": "stdout",
     "output_type": "stream",
     "text": [
      "Logistic regression (no penalty): 0.8145 AUC\n",
      "Logistic regression (L1): 0.8307 AUC for C=0.0513\n",
      "Logistic regression (L2): 0.8325 AUC for C=0.0090\n",
      "SVC: 0.8381 AUC for C=39.4026\n"
     ]
    }
   ],
   "source": [
    "print(f\"\"\"Logistic regression (no penalty): {lr_no_reg_auc:.4f} AUC\n",
    "Logistic regression (L1): {max(aucs_l1):.4f} AUC for C={cs[np.argmax(aucs_l1)]:.4f}\n",
    "Logistic regression (L2): {max(aucs_l2):.4f} AUC for C={cs[np.argmax(aucs_l2)]:.4f}\n",
    "SVC: {max(aucs_svc):.4f} AUC for C={cs_svc[np.argmax(aucs_svc)]:.4f}\"\"\")"
   ]
  },
  {
   "cell_type": "code",
   "execution_count": 41,
   "id": "89647482",
   "metadata": {},
   "outputs": [
    {
     "data": {
      "text/plain": [
       "0.8777"
      ]
     },
     "execution_count": 41,
     "metadata": {},
     "output_type": "execute_result"
    }
   ],
   "source": [
    "round(roc_auc_score(y_train, lr_titanic.predict_proba(X_train)[:, 1]), 4)\n",
    "\n",
    "# Need to run AUC of train dataset in order to compare with test dataset"
   ]
  },
  {
   "cell_type": "markdown",
   "id": "bcf35d51",
   "metadata": {},
   "source": [
    "## Cross-validation"
   ]
  },
  {
   "cell_type": "markdown",
   "id": "fb5fe87c",
   "metadata": {},
   "source": [
    "<img src=\"https://scikit-learn.org/stable/_images/grid_search_cross_validation.png\" width=75%>"
   ]
  },
  {
   "cell_type": "markdown",
   "id": "7f7eee38",
   "metadata": {},
   "source": [
    "Advantages:\n",
    "- reduces estimation error connected with random split of dataset\n",
    "- provides robust scores in case of overfitted model\n",
    "- no need to split data into training and validation subsets explicitly\n",
    "\n",
    "Disadvantages:\n",
    "- expensive computationally (training _k_ models instead of 1)\n",
    "- introduces another hyperparameter (_k_)\n",
    "- more complex training and evaluation pipeline"
   ]
  },
  {
   "cell_type": "markdown",
   "id": "37e81b1f",
   "metadata": {},
   "source": [
    "More information on [cross-validation](https://scikit-learn.org/stable/modules/cross_validation.html) page in scikit-learn documentation."
   ]
  },
  {
   "cell_type": "code",
   "execution_count": 42,
   "id": "3b2b3314",
   "metadata": {},
   "outputs": [],
   "source": [
    "def auc_scorer(model, X, y):\n",
    "    return roc_auc_score(y, model.predict_proba(X)[:, 1])"
   ]
  },
  {
   "cell_type": "code",
   "execution_count": 46,
   "id": "f89ddf5f",
   "metadata": {},
   "outputs": [
    {
     "name": "stdout",
     "output_type": "stream",
     "text": [
      "[0.85866241 0.82861322 0.84585807 0.837898   0.87749595]\n",
      "Mean AUC score: 0.850\n"
     ]
    }
   ],
   "source": [
    "folds = 5\n",
    "scores = cross_val_score(LR(max_iter=1000, random_state=42), X, y, cv=folds, scoring=auc_scorer) #scoring='roc_auc'\n",
    "print(scores)\n",
    "print(f\"Mean AUC score: {np.mean(scores):.3f}\")"
   ]
  },
  {
   "cell_type": "code",
   "execution_count": 47,
   "id": "8fdc5528",
   "metadata": {},
   "outputs": [
    {
     "name": "stderr",
     "output_type": "stream",
     "text": [
      "100%|██████████| 100/100 [00:51<00:00,  1.93it/s]\n"
     ]
    }
   ],
   "source": [
    "aucs_mean = np.array([])\n",
    "aucs_std = np.array([])\n",
    "cs_svc_xval = range(1,101)\n",
    "for c in tqdm(cs_svc_xval):\n",
    "    xval_arr = cross_val_score(SVC(C=c, probability=True, random_state=42),\n",
    "                               X,\n",
    "                               y,\n",
    "                               cv=folds,\n",
    "                               scoring=auc_scorer)\n",
    "    aucs_mean = np.append(aucs_mean, np.mean(xval_arr))\n",
    "    aucs_std = np.append(aucs_std, np.std(xval_arr))"
   ]
  },
  {
   "cell_type": "code",
   "execution_count": 48,
   "id": "94422a1b",
   "metadata": {},
   "outputs": [
    {
     "data": {
      "image/png": "[encoded data removed]",
      "text/plain": [
       "<Figure size 640x480 with 1 Axes>"
      ]
     },
     "metadata": {},
     "output_type": "display_data"
    }
   ],
   "source": [
    "plt.plot(cs_svc_xval, aucs_mean, 'r')\n",
    "plt.fill_between(cs_svc_xval,\n",
    "                 aucs_mean - aucs_std,\n",
    "                 aucs_mean + aucs_std,\n",
    "                 color='steelblue')\n",
    "best_c = cs_svc_xval[np.argmax(aucs_mean)]\n",
    "best_mean_auc = np.max(aucs_mean)\n",
    "plt.plot(best_c, best_mean_auc, 'bo')\n",
    "plt.annotate(f'AUC: {best_mean_auc:.3f} \\nC: {best_c}',\n",
    "             (best_c, best_mean_auc * 0.98),\n",
    "             weight='bold')\n",
    "plt.xlabel(\"C\")\n",
    "plt.ylabel(\"Mean AUC ± 1 Std\")\n",
    "plt.title(f\"Support Vector Classifier - {folds}-fold Xval\");"
   ]
  },
  {
   "cell_type": "markdown",
   "id": "c073718d",
   "metadata": {},
   "source": [
    "Grid search hyperparameter tuning + cross-validation = [GridSearchCV](https://scikit-learn.org/stable/modules/generated/sklearn.model_selection.GridSearchCV.html)"
   ]
  },
  {
   "cell_type": "markdown",
   "id": "eab69066",
   "metadata": {},
   "source": [
    "### Exercices"
   ]
  },
  {
   "cell_type": "markdown",
   "id": "f7a69fc3",
   "metadata": {},
   "source": [
    "Write your own \"scorer\" function returning F1-score (with 0.5 cutoff threshold)"
   ]
  },
  {
   "cell_type": "code",
   "execution_count": null,
   "id": "8ee7db59",
   "metadata": {},
   "outputs": [],
   "source": []
  },
  {
   "cell_type": "markdown",
   "id": "5cd63852",
   "metadata": {},
   "source": [
    "Perform hyperparameter tuning for logistic regression with **elasticnet** regularization. Tune value of **L1 ratio** hyperparameter. Use prepared data for Titanic dataset (`X` and `y` Dataframes).\n",
    "\n",
    "Tuning specification:\n",
    "- set regularization strength argument to 0.1\n",
    "- perform grid search of 50 evenly distributed values on whole range of L1 ratio\n",
    "- use F1-score as target metrics\n",
    "- use 3-fold cross-validation to estimate the metric"
   ]
  },
  {
   "cell_type": "code",
   "execution_count": null,
   "id": "e97ebbc4",
   "metadata": {},
   "outputs": [],
   "source": []
  },
  {
   "cell_type": "markdown",
   "id": "cd584e4a",
   "metadata": {},
   "source": [
    "Plot the results on lineplot with L1 ratio on x-axis and mean F1 on y-axis. What is the optimal value of L1 ratio and mean F1-score corresponding to it?"
   ]
  },
  {
   "cell_type": "code",
   "execution_count": null,
   "id": "b51b3587",
   "metadata": {},
   "outputs": [],
   "source": []
  }
 ],
 "metadata": {
  "kernelspec": {
   "display_name": "Python 3 (ipykernel)",
   "language": "python",
   "name": "python3"
  },
  "language_info": {
   "codemirror_mode": {
    "name": "ipython",
    "version": 3
   },
   "file_extension": ".py",
   "mimetype": "text/x-python",
   "name": "python",
   "nbconvert_exporter": "python",
   "pygments_lexer": "ipython3",
   "version": "3.10.12"
  }
 },
 "nbformat": 4,
 "nbformat_minor": 5
}
